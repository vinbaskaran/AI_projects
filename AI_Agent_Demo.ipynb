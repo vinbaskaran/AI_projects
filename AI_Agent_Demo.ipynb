{
  "nbformat": 4,
  "nbformat_minor": 0,
  "metadata": {
    "colab": {
      "provenance": [],
      "authorship_tag": "ABX9TyN7eo9SB65Nw21D3gPdPV4D",
      "include_colab_link": true
    },
    "kernelspec": {
      "name": "python3",
      "display_name": "Python 3"
    },
    "language_info": {
      "name": "python"
    }
  },
  "cells": [
    {
      "cell_type": "markdown",
      "metadata": {
        "id": "view-in-github",
        "colab_type": "text"
      },
      "source": [
        "<a href=\"https://colab.research.google.com/github/vinbaskaran/AI_projects/blob/main/AI_Agent_Demo.ipynb\" target=\"_parent\"><img src=\"https://colab.research.google.com/assets/colab-badge.svg\" alt=\"Open In Colab\"/></a>"
      ]
    },
    {
      "cell_type": "code",
      "execution_count": 1,
      "metadata": {
        "colab": {
          "base_uri": "https://localhost:8080/"
        },
        "id": "eybeDia5pPKe",
        "outputId": "60eec08e-ba14-43fc-b625-13da4db72bc6"
      },
      "outputs": [
        {
          "output_type": "stream",
          "name": "stdout",
          "text": [
            "Collecting phidata\n",
            "  Downloading phidata-2.7.10-py3-none-any.whl.metadata (38 kB)\n",
            "Requirement already satisfied: docstring-parser in /usr/local/lib/python3.11/dist-packages (from phidata) (0.16)\n",
            "Requirement already satisfied: gitpython in /usr/local/lib/python3.11/dist-packages (from phidata) (3.1.44)\n",
            "Requirement already satisfied: httpx in /usr/local/lib/python3.11/dist-packages (from phidata) (0.28.1)\n",
            "Requirement already satisfied: pydantic in /usr/local/lib/python3.11/dist-packages (from phidata) (2.10.6)\n",
            "Collecting pydantic-settings (from phidata)\n",
            "  Downloading pydantic_settings-2.8.1-py3-none-any.whl.metadata (3.5 kB)\n",
            "Collecting python-dotenv (from phidata)\n",
            "  Downloading python_dotenv-1.1.0-py3-none-any.whl.metadata (24 kB)\n",
            "Requirement already satisfied: pyyaml in /usr/local/lib/python3.11/dist-packages (from phidata) (6.0.2)\n",
            "Requirement already satisfied: rich in /usr/local/lib/python3.11/dist-packages (from phidata) (13.9.4)\n",
            "Collecting tomli (from phidata)\n",
            "  Downloading tomli-2.2.1-cp311-cp311-manylinux_2_17_x86_64.manylinux2014_x86_64.whl.metadata (11 kB)\n",
            "Requirement already satisfied: typer in /usr/local/lib/python3.11/dist-packages (from phidata) (0.15.2)\n",
            "Requirement already satisfied: typing-extensions in /usr/local/lib/python3.11/dist-packages (from phidata) (4.12.2)\n",
            "Requirement already satisfied: gitdb<5,>=4.0.1 in /usr/local/lib/python3.11/dist-packages (from gitpython->phidata) (4.0.12)\n",
            "Requirement already satisfied: anyio in /usr/local/lib/python3.11/dist-packages (from httpx->phidata) (4.9.0)\n",
            "Requirement already satisfied: certifi in /usr/local/lib/python3.11/dist-packages (from httpx->phidata) (2025.1.31)\n",
            "Requirement already satisfied: httpcore==1.* in /usr/local/lib/python3.11/dist-packages (from httpx->phidata) (1.0.7)\n",
            "Requirement already satisfied: idna in /usr/local/lib/python3.11/dist-packages (from httpx->phidata) (3.10)\n",
            "Requirement already satisfied: h11<0.15,>=0.13 in /usr/local/lib/python3.11/dist-packages (from httpcore==1.*->httpx->phidata) (0.14.0)\n",
            "Requirement already satisfied: annotated-types>=0.6.0 in /usr/local/lib/python3.11/dist-packages (from pydantic->phidata) (0.7.0)\n",
            "Requirement already satisfied: pydantic-core==2.27.2 in /usr/local/lib/python3.11/dist-packages (from pydantic->phidata) (2.27.2)\n",
            "Requirement already satisfied: markdown-it-py>=2.2.0 in /usr/local/lib/python3.11/dist-packages (from rich->phidata) (3.0.0)\n",
            "Requirement already satisfied: pygments<3.0.0,>=2.13.0 in /usr/local/lib/python3.11/dist-packages (from rich->phidata) (2.18.0)\n",
            "Requirement already satisfied: click>=8.0.0 in /usr/local/lib/python3.11/dist-packages (from typer->phidata) (8.1.8)\n",
            "Requirement already satisfied: shellingham>=1.3.0 in /usr/local/lib/python3.11/dist-packages (from typer->phidata) (1.5.4)\n",
            "Requirement already satisfied: smmap<6,>=3.0.1 in /usr/local/lib/python3.11/dist-packages (from gitdb<5,>=4.0.1->gitpython->phidata) (5.0.2)\n",
            "Requirement already satisfied: mdurl~=0.1 in /usr/local/lib/python3.11/dist-packages (from markdown-it-py>=2.2.0->rich->phidata) (0.1.2)\n",
            "Requirement already satisfied: sniffio>=1.1 in /usr/local/lib/python3.11/dist-packages (from anyio->httpx->phidata) (1.3.1)\n",
            "Downloading phidata-2.7.10-py3-none-any.whl (716 kB)\n",
            "\u001b[2K   \u001b[90m━━━━━━━━━━━━━━━━━━━━━━━━━━━━━━━━━━━━━━━━\u001b[0m \u001b[32m716.9/716.9 kB\u001b[0m \u001b[31m9.1 MB/s\u001b[0m eta \u001b[36m0:00:00\u001b[0m\n",
            "\u001b[?25hDownloading pydantic_settings-2.8.1-py3-none-any.whl (30 kB)\n",
            "Downloading python_dotenv-1.1.0-py3-none-any.whl (20 kB)\n",
            "Downloading tomli-2.2.1-cp311-cp311-manylinux_2_17_x86_64.manylinux2014_x86_64.whl (236 kB)\n",
            "\u001b[2K   \u001b[90m━━━━━━━━━━━━━━━━━━━━━━━━━━━━━━━━━━━━━━━━\u001b[0m \u001b[32m236.0/236.0 kB\u001b[0m \u001b[31m9.5 MB/s\u001b[0m eta \u001b[36m0:00:00\u001b[0m\n",
            "\u001b[?25hInstalling collected packages: tomli, python-dotenv, pydantic-settings, phidata\n",
            "Successfully installed phidata-2.7.10 pydantic-settings-2.8.1 python-dotenv-1.1.0 tomli-2.2.1\n"
          ]
        }
      ],
      "source": [
        "pip install phidata"
      ]
    },
    {
      "cell_type": "code",
      "source": [
        "%%writefile .env\n",
        "GROQ_API_KEY = \"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\""
      ],
      "metadata": {
        "colab": {
          "base_uri": "https://localhost:8080/"
        },
        "id": "ZZ5BfoMdqmkI",
        "outputId": "b9bc45d5-f11d-4c55-fd19-a9784078fecc"
      },
      "execution_count": 2,
      "outputs": [
        {
          "output_type": "stream",
          "name": "stdout",
          "text": [
            "Writing .env\n"
          ]
        }
      ]
    },
    {
      "cell_type": "code",
      "source": [
        "pip install dotenv"
      ],
      "metadata": {
        "colab": {
          "base_uri": "https://localhost:8080/"
        },
        "id": "TxuNaNtvq0KZ",
        "outputId": "5737dacc-beff-44eb-ec9b-3569e81ae531"
      },
      "execution_count": 3,
      "outputs": [
        {
          "output_type": "stream",
          "name": "stdout",
          "text": [
            "Collecting dotenv\n",
            "  Downloading dotenv-0.9.9-py2.py3-none-any.whl.metadata (279 bytes)\n",
            "Requirement already satisfied: python-dotenv in /usr/local/lib/python3.11/dist-packages (from dotenv) (1.1.0)\n",
            "Downloading dotenv-0.9.9-py2.py3-none-any.whl (1.9 kB)\n",
            "Installing collected packages: dotenv\n",
            "Successfully installed dotenv-0.9.9\n"
          ]
        }
      ]
    },
    {
      "cell_type": "code",
      "source": [
        "pip install groq"
      ],
      "metadata": {
        "colab": {
          "base_uri": "https://localhost:8080/"
        },
        "id": "tgjVpr2Uupbk",
        "outputId": "4ba6a1a8-3a3b-4391-faf0-dfc62342d456"
      },
      "execution_count": 4,
      "outputs": [
        {
          "output_type": "stream",
          "name": "stdout",
          "text": [
            "Collecting groq\n",
            "  Downloading groq-0.20.0-py3-none-any.whl.metadata (15 kB)\n",
            "Requirement already satisfied: anyio<5,>=3.5.0 in /usr/local/lib/python3.11/dist-packages (from groq) (4.9.0)\n",
            "Requirement already satisfied: distro<2,>=1.7.0 in /usr/local/lib/python3.11/dist-packages (from groq) (1.9.0)\n",
            "Requirement already satisfied: httpx<1,>=0.23.0 in /usr/local/lib/python3.11/dist-packages (from groq) (0.28.1)\n",
            "Requirement already satisfied: pydantic<3,>=1.9.0 in /usr/local/lib/python3.11/dist-packages (from groq) (2.10.6)\n",
            "Requirement already satisfied: sniffio in /usr/local/lib/python3.11/dist-packages (from groq) (1.3.1)\n",
            "Requirement already satisfied: typing-extensions<5,>=4.10 in /usr/local/lib/python3.11/dist-packages (from groq) (4.12.2)\n",
            "Requirement already satisfied: idna>=2.8 in /usr/local/lib/python3.11/dist-packages (from anyio<5,>=3.5.0->groq) (3.10)\n",
            "Requirement already satisfied: certifi in /usr/local/lib/python3.11/dist-packages (from httpx<1,>=0.23.0->groq) (2025.1.31)\n",
            "Requirement already satisfied: httpcore==1.* in /usr/local/lib/python3.11/dist-packages (from httpx<1,>=0.23.0->groq) (1.0.7)\n",
            "Requirement already satisfied: h11<0.15,>=0.13 in /usr/local/lib/python3.11/dist-packages (from httpcore==1.*->httpx<1,>=0.23.0->groq) (0.14.0)\n",
            "Requirement already satisfied: annotated-types>=0.6.0 in /usr/local/lib/python3.11/dist-packages (from pydantic<3,>=1.9.0->groq) (0.7.0)\n",
            "Requirement already satisfied: pydantic-core==2.27.2 in /usr/local/lib/python3.11/dist-packages (from pydantic<3,>=1.9.0->groq) (2.27.2)\n",
            "Downloading groq-0.20.0-py3-none-any.whl (124 kB)\n",
            "\u001b[2K   \u001b[90m━━━━━━━━━━━━━━━━━━━━━━━━━━━━━━━━━━━━━━━━\u001b[0m \u001b[32m124.9/124.9 kB\u001b[0m \u001b[31m3.1 MB/s\u001b[0m eta \u001b[36m0:00:00\u001b[0m\n",
            "\u001b[?25hInstalling collected packages: groq\n",
            "Successfully installed groq-0.20.0\n"
          ]
        }
      ]
    },
    {
      "cell_type": "code",
      "source": [
        "from phi.agent import Agent\n",
        "from phi.model.groq import Groq\n",
        "from dotenv import load_dotenv"
      ],
      "metadata": {
        "id": "6mbj247fq8Pc"
      },
      "execution_count": 8,
      "outputs": []
    },
    {
      "cell_type": "code",
      "source": [
        "load_dotenv()"
      ],
      "metadata": {
        "colab": {
          "base_uri": "https://localhost:8080/"
        },
        "id": "81k3Y5zIuzRK",
        "outputId": "89bdb1a2-48ae-4219-d65e-b4e8e5d8b938"
      },
      "execution_count": 6,
      "outputs": [
        {
          "output_type": "execute_result",
          "data": {
            "text/plain": [
              "True"
            ]
          },
          "metadata": {},
          "execution_count": 6
        }
      ]
    },
    {
      "cell_type": "code",
      "source": [
        "agent = Agent(model=Groq(id=\"deepseek-r1-distill-llama-70b\"))"
      ],
      "metadata": {
        "id": "26voYdtau8f4"
      },
      "execution_count": 9,
      "outputs": []
    },
    {
      "cell_type": "code",
      "source": [
        "agent.print_response(\"How are you?\")"
      ],
      "metadata": {
        "colab": {
          "base_uri": "https://localhost:8080/"
        },
        "id": "Vy8s-cx0vY7Q",
        "outputId": "a2772c7b-16d1-4f56-afb3-c979f23dff64"
      },
      "execution_count": 10,
      "outputs": [
        {
          "output_type": "stream",
          "name": "stdout",
          "text": [
            "┏━ Message ━━━━━━━━━━━━━━━━━━━━━━━━━━━━━━━━━━━━━━━━━━━━━━━━━━━━━━━━━━━━━━━━━━━━━━━━━━━━━━━━━━━━━━━━┓\n",
            "┃                                                                                                  ┃\n",
            "┃ How are you?                                                                                     ┃\n",
            "┃                                                                                                  ┃\n",
            "┗━━━━━━━━━━━━━━━━━━━━━━━━━━━━━━━━━━━━━━━━━━━━━━━━━━━━━━━━━━━━━━━━━━━━━━━━━━━━━━━━━━━━━━━━━━━━━━━━━━┛\n",
            "┏━ Response (1.4s) ━━━━━━━━━━━━━━━━━━━━━━━━━━━━━━━━━━━━━━━━━━━━━━━━━━━━━━━━━━━━━━━━━━━━━━━━━━━━━━━━┓\n",
            "┃                                                                                                  ┃\n",
            "┃ <think>                                                                                          ┃\n",
            "┃                                                                                                  ┃\n",
            "┃ </think>                                                                                         ┃\n",
            "┃                                                                                                  ┃\n",
            "┃ Hello! I'm just a virtual assistant, so I don't have feelings, but I'm here and ready to help    ┃\n",
            "┃ you with whatever you need. How can I assist you today? 😊                                       ┃\n",
            "┃                                                                                                  ┃\n",
            "┗━━━━━━━━━━━━━━━━━━━━━━━━━━━━━━━━━━━━━━━━━━━━━━━━━━━━━━━━━━━━━━━━━━━━━━━━━━━━━━━━━━━━━━━━━━━━━━━━━━┛"
          ]
        }
      ]
    },
    {
      "cell_type": "code",
      "source": [
        "pip install -U youtube_transcript_api"
      ],
      "metadata": {
        "colab": {
          "base_uri": "https://localhost:8080/"
        },
        "id": "q6E-Qej4vksM",
        "outputId": "89286152-8c20-43fe-a912-de8ba610e30b"
      },
      "execution_count": 11,
      "outputs": [
        {
          "output_type": "stream",
          "name": "stdout",
          "text": [
            "Collecting youtube_transcript_api\n",
            "  Downloading youtube_transcript_api-1.0.3-py3-none-any.whl.metadata (23 kB)\n",
            "Requirement already satisfied: defusedxml<0.8.0,>=0.7.1 in /usr/local/lib/python3.11/dist-packages (from youtube_transcript_api) (0.7.1)\n",
            "Requirement already satisfied: requests in /usr/local/lib/python3.11/dist-packages (from youtube_transcript_api) (2.32.3)\n",
            "Requirement already satisfied: charset-normalizer<4,>=2 in /usr/local/lib/python3.11/dist-packages (from requests->youtube_transcript_api) (3.4.1)\n",
            "Requirement already satisfied: idna<4,>=2.5 in /usr/local/lib/python3.11/dist-packages (from requests->youtube_transcript_api) (3.10)\n",
            "Requirement already satisfied: urllib3<3,>=1.21.1 in /usr/local/lib/python3.11/dist-packages (from requests->youtube_transcript_api) (2.3.0)\n",
            "Requirement already satisfied: certifi>=2017.4.17 in /usr/local/lib/python3.11/dist-packages (from requests->youtube_transcript_api) (2025.1.31)\n",
            "Downloading youtube_transcript_api-1.0.3-py3-none-any.whl (2.2 MB)\n",
            "\u001b[2K   \u001b[90m━━━━━━━━━━━━━━━━━━━━━━━━━━━━━━━━━━━━━━━━\u001b[0m \u001b[32m2.2/2.2 MB\u001b[0m \u001b[31m19.9 MB/s\u001b[0m eta \u001b[36m0:00:00\u001b[0m\n",
            "\u001b[?25hInstalling collected packages: youtube_transcript_api\n",
            "Successfully installed youtube_transcript_api-1.0.3\n"
          ]
        }
      ]
    },
    {
      "cell_type": "code",
      "source": [
        "from phi.tools.youtube_tools import YouTubeTools\n",
        "\n",
        "youtube_agent = Agent(\n",
        "    model=Groq(id=\"deepseek-r1-distill-llama-70b\"),\n",
        "    tools=[YouTubeTools()],\n",
        "    show_tool_calls=True,\n",
        "    description=\"You are a YouTube agent. Obtain the captions of a YouTube video and answer questions.\",\n",
        ")\n",
        "\n",
        "youtube_agent.print_response(\"Summarize this video https://www.youtube.com/watch?v=Iv9dewmcFbs&t\", markdown=True)"
      ],
      "metadata": {
        "colab": {
          "base_uri": "https://localhost:8080/"
        },
        "id": "6WaPSDG4wIRi",
        "outputId": "13a4bc69-7946-40e9-e458-d284404a63e3"
      },
      "execution_count": 13,
      "outputs": [
        {
          "output_type": "stream",
          "name": "stdout",
          "text": [
            "┏━ Message ━━━━━━━━━━━━━━━━━━━━━━━━━━━━━━━━━━━━━━━━━━━━━━━━━━━━━━━━━━━━━━━━━━━━━━━━━━━━━━━━━━━━━━━━┓\n",
            "┃                                                                                                  ┃\n",
            "┃ Summarize this video https://www.youtube.com/watch?v=Iv9dewmcFbs&t                               ┃\n",
            "┃                                                                                                  ┃\n",
            "┗━━━━━━━━━━━━━━━━━━━━━━━━━━━━━━━━━━━━━━━━━━━━━━━━━━━━━━━━━━━━━━━━━━━━━━━━━━━━━━━━━━━━━━━━━━━━━━━━━━┛\n",
            "┏━ Response (5.8s) ━━━━━━━━━━━━━━━━━━━━━━━━━━━━━━━━━━━━━━━━━━━━━━━━━━━━━━━━━━━━━━━━━━━━━━━━━━━━━━━━┓\n",
            "┃                                                                                                  ┃\n",
            "┃ Running:                                                                                         ┃\n",
            "┃                                                                                                  ┃\n",
            "┃  • get_youtube_video_captions(url=https://www.youtube.com/watch?v=Iv9dewmcFbs&t)                 ┃\n",
            "┃                                                                                                  ┃\n",
            "┃ The video demonstrates how to build a research assistant using the LLaMA 3 model on Gro. Here's  ┃\n",
            "┃ a summary:                                                                                       ┃\n",
            "┃                                                                                                  ┃\n",
            "┃  1 Introduction: The host, Ashre, introduces a tool that leverages LLaMA 3 to generate research  ┃\n",
            "┃    reports on complex topics by searching the web and packaging the information.                 ┃\n",
            "┃  2 Setup:                                                                                        ┃\n",
            "┃     • Clone the FI data repository.                                                              ┃\n",
            "┃     • Navigate to the cookbook/llm/groc_research folder.                                         ┃\n",
            "┃     • Follow the README for step-by-step instructions.                                           ┃\n",
            "┃  3 Configuration:                                                                                ┃\n",
            "┃     • Create a virtual environment.                                                              ┃\n",
            "┃     • Export your Gro API key and T API key for web search.                                      ┃\n",
            "┃     • Install necessary libraries (Gro, F-DAT, Streamlit, Tavril, etc.).                         ┃\n",
            "┃  4 Running the Application: Use Streamlit to run the research assistant, which performs the      ┃\n",
            "┃    following steps:                                                                              ┃\n",
            "┃     • Takes a topic as input.                                                                    ┃\n",
            "┃     • Searches the web for relevant information.                                                 ┃\n",
            "┃     • Packages the information into markdown format.                                             ┃\n",
            "┃     • Sends the data to LLaMA 3 for generating a research report.                                ┃\n",
            "┃  5 Demonstration: Ashre demonstrates the tool with examples like \"AI in Healthcare\" and          ┃\n",
            "┃    \"Language Agent Research,\" showcasing how quickly it generates comprehensive reports with     ┃\n",
            "┃    sections like title, content, conclusion, and references.                                     ┃\n",
            "┃  6 Customization: The tool allows customization of the report format and content according to    ┃\n",
            "┃    user preferences.                                                                             ┃\n",
            "┃                                                                                                  ┃\n",
            "┃ The video concludes by highlighting the efficiency and potential of this AI-powered research     ┃\n",
            "┃ assistant for various topics.                                                                    ┃\n",
            "┃                                                                                                  ┃\n",
            "┗━━━━━━━━━━━━━━━━━━━━━━━━━━━━━━━━━━━━━━━━━━━━━━━━━━━━━━━━━━━━━━━━━━━━━━━━━━━━━━━━━━━━━━━━━━━━━━━━━━┛"
          ]
        }
      ]
    },
    {
      "cell_type": "code",
      "source": [
        "youtube_agent.print_response(\"Summarize this video https://youtu.be/mDOqyIk_lLk?si=nXfDZuwDkFBZa6q1 and provide latest information about the channel\", markdown=True)"
      ],
      "metadata": {
        "colab": {
          "base_uri": "https://localhost:8080/"
        },
        "id": "az0r8p2lwbcW",
        "outputId": "c31410a8-23b8-476d-b023-ab15c3e8a0f6"
      },
      "execution_count": 27,
      "outputs": [
        {
          "output_type": "stream",
          "name": "stdout",
          "text": [
            "┏━ Message ━━━━━━━━━━━━━━━━━━━━━━━━━━━━━━━━━━━━━━━━━━━━━━━━━━━━━━━━━━━━━━━━━━━━━━━━━━━━━━━━━━━━━━━━┓\n",
            "┃                                                                                                  ┃\n",
            "┃ Summarize this video https://youtu.be/mDOqyIk_lLk?si=nXfDZuwDkFBZa6q1 and provide latest         ┃\n",
            "┃ information about the channel                                                                    ┃\n",
            "┃                                                                                                  ┃\n",
            "┗━━━━━━━━━━━━━━━━━━━━━━━━━━━━━━━━━━━━━━━━━━━━━━━━━━━━━━━━━━━━━━━━━━━━━━━━━━━━━━━━━━━━━━━━━━━━━━━━━━┛\n",
            "┏━ Response (5.6s) ━━━━━━━━━━━━━━━━━━━━━━━━━━━━━━━━━━━━━━━━━━━━━━━━━━━━━━━━━━━━━━━━━━━━━━━━━━━━━━━━┓\n",
            "┃                                                                                                  ┃\n",
            "┃ Running:                                                                                         ┃\n",
            "┃                                                                                                  ┃\n",
            "┃  • get_youtube_video_captions(url=https://youtu.be/mDOqyIk_lLk?si=nXfDZuwDkFBZa6q1)              ┃\n",
            "┃                                                                                                  ┃\n",
            "┃ <tool_call>{\"id\":\"call_t9zy\",\"name\":\"get_youtube_video_data\",\"arguments\":{\"url\":\"https://youtu.b ┃\n",
            "┃ e/mDOqyIk_lLk?si=nXfDZuwDkFBZa6q1\"}}<｜tool▁calls▁end｜>                                         ┃\n",
            "┃                                                                                                  ┃\n",
            "┗━━━━━━━━━━━━━━━━━━━━━━━━━━━━━━━━━━━━━━━━━━━━━━━━━━━━━━━━━━━━━━━━━━━━━━━━━━━━━━━━━━━━━━━━━━━━━━━━━━┛"
          ]
        }
      ]
    },
    {
      "cell_type": "code",
      "source": [
        "pip install -U googlesearch-python pycountry"
      ],
      "metadata": {
        "colab": {
          "base_uri": "https://localhost:8080/"
        },
        "id": "JtdNPpvSxbsD",
        "outputId": "18202b28-c2cb-417d-96ae-4ca9d3751173"
      },
      "execution_count": 15,
      "outputs": [
        {
          "output_type": "stream",
          "name": "stdout",
          "text": [
            "Collecting googlesearch-python\n",
            "  Downloading googlesearch_python-1.3.0-py3-none-any.whl.metadata (3.4 kB)\n",
            "Collecting pycountry\n",
            "  Downloading pycountry-24.6.1-py3-none-any.whl.metadata (12 kB)\n",
            "Requirement already satisfied: beautifulsoup4>=4.9 in /usr/local/lib/python3.11/dist-packages (from googlesearch-python) (4.13.3)\n",
            "Requirement already satisfied: requests>=2.20 in /usr/local/lib/python3.11/dist-packages (from googlesearch-python) (2.32.3)\n",
            "Requirement already satisfied: soupsieve>1.2 in /usr/local/lib/python3.11/dist-packages (from beautifulsoup4>=4.9->googlesearch-python) (2.6)\n",
            "Requirement already satisfied: typing-extensions>=4.0.0 in /usr/local/lib/python3.11/dist-packages (from beautifulsoup4>=4.9->googlesearch-python) (4.12.2)\n",
            "Requirement already satisfied: charset-normalizer<4,>=2 in /usr/local/lib/python3.11/dist-packages (from requests>=2.20->googlesearch-python) (3.4.1)\n",
            "Requirement already satisfied: idna<4,>=2.5 in /usr/local/lib/python3.11/dist-packages (from requests>=2.20->googlesearch-python) (3.10)\n",
            "Requirement already satisfied: urllib3<3,>=1.21.1 in /usr/local/lib/python3.11/dist-packages (from requests>=2.20->googlesearch-python) (2.3.0)\n",
            "Requirement already satisfied: certifi>=2017.4.17 in /usr/local/lib/python3.11/dist-packages (from requests>=2.20->googlesearch-python) (2025.1.31)\n",
            "Downloading googlesearch_python-1.3.0-py3-none-any.whl (5.6 kB)\n",
            "Downloading pycountry-24.6.1-py3-none-any.whl (6.3 MB)\n",
            "\u001b[2K   \u001b[90m━━━━━━━━━━━━━━━━━━━━━━━━━━━━━━━━━━━━━━━━\u001b[0m \u001b[32m6.3/6.3 MB\u001b[0m \u001b[31m34.5 MB/s\u001b[0m eta \u001b[36m0:00:00\u001b[0m\n",
            "\u001b[?25hInstalling collected packages: pycountry, googlesearch-python\n",
            "Successfully installed googlesearch-python-1.3.0 pycountry-24.6.1\n"
          ]
        }
      ]
    },
    {
      "cell_type": "code",
      "source": [
        "from phi.tools.googlesearch import GoogleSearch\n",
        "\n",
        "googlesearch_agent = Agent(\n",
        "    model=Groq(id=\"deepseek-r1-distill-llama-70b\"),\n",
        "    tools=[GoogleSearch()],\n",
        "    description=\"You are a news agent that helps users find the latest news.\",\n",
        "    instructions=[\n",
        "        \"Given a topic by the user, respond with 4 latest news items about that topic.\",\n",
        "        \"Search for 10 news items and select the top 4 unique items.\",\n",
        "        \"Search in English and in French.\",\n",
        "    ],\n",
        "    show_tool_calls=True,\n",
        "    debug_mode=True,\n",
        ")\n",
        "googlesearch_agent.print_response(\"Mistral AI\", markdown=True)"
      ],
      "metadata": {
        "colab": {
          "base_uri": "https://localhost:8080/"
        },
        "id": "IPF55gk7xxLo",
        "outputId": "8adbdd82-b7b6-4be5-e88d-8070e1cbe4f0"
      },
      "execution_count": 16,
      "outputs": [
        {
          "output_type": "stream",
          "name": "stdout",
          "text": [
            "DEBUG    Debug logs enabled                                                                         \n",
            "DEBUG    *********** Agent Run Start: 372cef92-541d-4a0c-bd1e-e7f679cc471e ***********              \n",
            "DEBUG    Function google_search from googlesearch added to model.                                   \n",
            "DEBUG    ---------- Groq Response Start ----------                                                  \n",
            "DEBUG    ============== system ==============                                                       \n",
            "DEBUG    You are a news agent that helps users find the latest news.                                \n",
            "                                                                                                    \n",
            "         ## Instructions                                                                            \n",
            "         - Given a topic by the user, respond with 4 latest news items about that topic.            \n",
            "         - Search for 10 news items and select the top 4 unique items.                              \n",
            "         - Search in English and in French.                                                         \n",
            "         - Use markdown to format your answers.                                                     \n",
            "DEBUG    ============== user ==============                                                         \n",
            "DEBUG    Mistral AI                                                                                 \n",
            "DEBUG    ============== assistant ==============                                                    \n",
            "DEBUG    **************** METRICS START ****************                                            \n",
            "DEBUG    * Time to generate response:   0.5663s                                                     \n",
            "DEBUG    * Tokens per second:           61.8038 tokens/s                                            \n",
            "DEBUG    * Input tokens:                256                                                         \n",
            "DEBUG    * Output tokens:               35                                                          \n",
            "DEBUG    * Total tokens:                291                                                         \n",
            "DEBUG    * Completion time:             0.1273s                                                     \n",
            "DEBUG    * Prompt time:                 0.0140s                                                     \n",
            "DEBUG    * Queue time:                  0.2365s                                                     \n",
            "DEBUG    * Total time:                  0.1413s                                                     \n",
            "DEBUG    **************** METRICS END ******************                                            \n",
            "DEBUG    ---------- Groq Response End ----------                                                    \n",
            "DEBUG    Added 2 Messages to AgentMemory                                                            \n",
            "DEBUG    Added AgentRun to AgentMemory                                                              \n",
            "DEBUG    --**-- Logging Agent Run                                                                   \n",
            "DEBUG    *********** Agent Run End: 372cef92-541d-4a0c-bd1e-e7f679cc471e ***********                \n",
            "┏━ Message ━━━━━━━━━━━━━━━━━━━━━━━━━━━━━━━━━━━━━━━━━━━━━━━━━━━━━━━━━━━━━━━━━━━━━━━━━━━━━━━━━━━━━━━━┓\n",
            "┃                                                                                                  ┃\n",
            "┃ Mistral AI                                                                                       ┃\n",
            "┃                                                                                                  ┃\n",
            "┗━━━━━━━━━━━━━━━━━━━━━━━━━━━━━━━━━━━━━━━━━━━━━━━━━━━━━━━━━━━━━━━━━━━━━━━━━━━━━━━━━━━━━━━━━━━━━━━━━━┛\n",
            "┏━ Response (1.0s) ━━━━━━━━━━━━━━━━━━━━━━━━━━━━━━━━━━━━━━━━━━━━━━━━━━━━━━━━━━━━━━━━━━━━━━━━━━━━━━━━┓\n",
            "┃                                                                                                  ┃\n",
            "┃                                                                                                  ┃\n",
            "┗━━━━━━━━━━━━━━━━━━━━━━━━━━━━━━━━━━━━━━━━━━━━━━━━━━━━━━━━━━━━━━━━━━━━━━━━━━━━━━━━━━━━━━━━━━━━━━━━━━┛"
          ]
        }
      ]
    },
    {
      "cell_type": "code",
      "source": [
        "googlesearch_agent.print_response(\"PayPal\", markdown=True)"
      ],
      "metadata": {
        "colab": {
          "base_uri": "https://localhost:8080/"
        },
        "id": "1x07PNaVyCS9",
        "outputId": "b6cece67-7fa8-4474-c16d-54e3920d2f74"
      },
      "execution_count": 17,
      "outputs": [
        {
          "output_type": "stream",
          "name": "stdout",
          "text": [
            "DEBUG    *********** Agent Run Start: 5124b439-893f-41fe-9cce-144d4211d407 ***********              \n",
            "DEBUG    ---------- Groq Response Start ----------                                                  \n",
            "DEBUG    ============== system ==============                                                       \n",
            "DEBUG    You are a news agent that helps users find the latest news.                                \n",
            "                                                                                                    \n",
            "         ## Instructions                                                                            \n",
            "         - Given a topic by the user, respond with 4 latest news items about that topic.            \n",
            "         - Search for 10 news items and select the top 4 unique items.                              \n",
            "         - Search in English and in French.                                                         \n",
            "         - Use markdown to format your answers.                                                     \n",
            "DEBUG    ============== user ==============                                                         \n",
            "DEBUG    PayPal                                                                                     \n",
            "DEBUG    ============== assistant ==============                                                    \n",
            "DEBUG    Tool Calls: [                                                                              \n",
            "           {                                                                                        \n",
            "             \"id\": \"call_0zt6\",                                                                     \n",
            "             \"function\": {                                                                          \n",
            "               \"arguments\": \"{\\\"language\\\":\\\"en\\\",\\\"max_results\\\":10,\\\"query\\\":\\\"latest news        \n",
            "         PayPal\\\"}\",                                                                                \n",
            "               \"name\": \"google_search\"                                                              \n",
            "             },                                                                                     \n",
            "             \"type\": \"function\"                                                                     \n",
            "           }                                                                                        \n",
            "         ]                                                                                          \n",
            "DEBUG    **************** METRICS START ****************                                            \n",
            "DEBUG    * Time to generate response:   1.5367s                                                     \n",
            "DEBUG    * Tokens per second:           178.3007 tokens/s                                           \n",
            "DEBUG    * Input tokens:                254                                                         \n",
            "DEBUG    * Output tokens:               274                                                         \n",
            "DEBUG    * Total tokens:                528                                                         \n",
            "DEBUG    * Completion time:             0.9964s                                                     \n",
            "DEBUG    * Prompt time:                 0.0123s                                                     \n",
            "DEBUG    * Queue time:                  0.2365s                                                     \n",
            "DEBUG    * Total time:                  1.0087s                                                     \n",
            "DEBUG    **************** METRICS END ******************                                            \n",
            "DEBUG    Getting function google_search                                                             \n",
            "DEBUG    Running: google_search(language=en, max_results=10, query=latest news PayPal)              \n",
            "DEBUG    Searching Google [en] for: latest news PayPal                                              \n",
            "DEBUG    ---------- Groq Response Start ----------                                                  \n",
            "DEBUG    ============== system ==============                                                       \n",
            "DEBUG    You are a news agent that helps users find the latest news.                                \n",
            "                                                                                                    \n",
            "         ## Instructions                                                                            \n",
            "         - Given a topic by the user, respond with 4 latest news items about that topic.            \n",
            "         - Search for 10 news items and select the top 4 unique items.                              \n",
            "         - Search in English and in French.                                                         \n",
            "         - Use markdown to format your answers.                                                     \n",
            "DEBUG    ============== user ==============                                                         \n",
            "DEBUG    PayPal                                                                                     \n",
            "DEBUG    ============== assistant ==============                                                    \n",
            "DEBUG    Tool Calls: [                                                                              \n",
            "           {                                                                                        \n",
            "             \"id\": \"call_0zt6\",                                                                     \n",
            "             \"function\": {                                                                          \n",
            "               \"arguments\": \"{\\\"language\\\":\\\"en\\\",\\\"max_results\\\":10,\\\"query\\\":\\\"latest news        \n",
            "         PayPal\\\"}\",                                                                                \n",
            "               \"name\": \"google_search\"                                                              \n",
            "             },                                                                                     \n",
            "             \"type\": \"function\"                                                                     \n",
            "           }                                                                                        \n",
            "         ]                                                                                          \n",
            "DEBUG    ============== tool ==============                                                         \n",
            "DEBUG    Tool call Id: call_0zt6                                                                    \n",
            "DEBUG    [                                                                                          \n",
            "           {                                                                                        \n",
            "             \"title\": \"News - PayPal Newsroom\",                                                     \n",
            "             \"url\": \"https://newsroom.paypal-corp.com/news\",                                        \n",
            "             \"description\": \" PayPal announced its fourth quarter and full year 2024 results for the\n",
            "         period ended December 31, 2024. \"                                                          \n",
            "           },                                                                                       \n",
            "           {                                                                                        \n",
            "             \"title\": \"PayPal Holdings, Inc. (PYPL) - Yahoo Finance\",                               \n",
            "             \"url\": \"https://finance.yahoo.com/quote/PYPL/press-releases/\",                         \n",
            "             \"description\": \" PayPal Surpasses $30B in Global Small Business Lending. PayPal        \n",
            "         Holdings, Inc. (NASDAQ: PYPL) today announced it has passed $30 billion in global          \n",
            "         loan\\u00a0... \"                                                                            \n",
            "           },                                                                                       \n",
            "           {                                                                                        \n",
            "             \"title\": \"PayPal's shares slide as EU lawmaker raises prospect of new fees ...\",       \n",
            "             \"url\":                                                                                 \n",
            "         \"https://www.reuters.com/technology/paypal-shares-slide-eu-lawmaker-raises-prospect-new-fee\n",
            "         s-amid-trade-tensions-2025-03-28/\",                                                        \n",
            "             \"description\": \" 2 days ago  \\u00b7  PayPal's shares fell 5% on Friday after comments  \n",
            "         from a European Union lawmaker raised concerns that payments firms could get swept up      \n",
            "         in\\u00a0... \"                                                                              \n",
            "           },                                                                                       \n",
            "           {                                                                                        \n",
            "             \"title\": \"PayPal Holdings, Inc. (PYPL) - Yahoo Finance\",                               \n",
            "             \"url\": \"https://finance.yahoo.com/quote/PYPL/news/\",                                   \n",
            "             \"description\": \" (Reuters) -PayPal's shares fell 5% on Friday after comments from a    \n",
            "         European Union lawmaker raised concerns that payments firms could get swept up in          \n",
            "         escalating\\u00a0... \"                                                                      \n",
            "           },                                                                                       \n",
            "           {                                                                                        \n",
            "             \"title\": \"  PayPal's shares slide as EU lawmaker raises prospect of new fees amid trade\n",
            "         tensions  \",                                                                               \n",
            "             \"url\":                                                                                 \n",
            "         \"https://www.reuters.com/technology/paypal-shares-slide-eu-lawmaker-raises-prospect-new-fee\n",
            "         s-amid-trade-tensions-2025-03-28/\",                                                        \n",
            "             \"description\": \" PayPal's shares slide as EU lawmaker raises prospect of new fees amid \n",
            "         trade tensions \"                                                                           \n",
            "           },                                                                                       \n",
            "           {                                                                                        \n",
            "             \"title\": \"PayPal - News, Articles & Research - Finextra\",                              \n",
            "             \"url\": \"https://www.finextra.com/company-news/363/paypal\",                             \n",
            "             \"description\": \" PayPal reaches $2m cybersecurity settlement with New York regulators. \n",
            "         23 January 2025. Company announcement /payments. Airline JetBlue starts accepting Venmo. \" \n",
            "           },                                                                                       \n",
            "           {                                                                                        \n",
            "             \"title\": \"PayPal - BBC News\",                                                          \n",
            "             \"url\": \"https://www.bbc.com/news/topics/c50znx8v8j4t\",                                 \n",
            "             \"description\": \" PayPal cuts 2,000 jobs in latest tech layoffs   The online payments   \n",
            "         platform is the latest technology firm to cut costs as the global economy weakens. \"       \n",
            "           },                                                                                       \n",
            "           {                                                                                        \n",
            "             \"title\": \"PayPal Holdings, Inc. - Home\",                                               \n",
            "             \"url\": \"https://investor.pypl.com/home/\",                                              \n",
            "             \"description\": \" Latest news ; March 26. PayPal Surpasses $30B in Global Small Business\n",
            "         Lending ; March 10. Joy Chik to Join PayPal's Board of Directors ; February 25.            \n",
            "         PayPal\\u00a0... \"                                                                          \n",
            "           },                                                                                       \n",
            "           {                                                                                        \n",
            "             \"title\": \"PayPal News (@PayPalNews) / X\",                                              \n",
            "             \"url\": \"https://x.com/paypalnews?lang=en\",                                             \n",
            "             \"description\": \" PayPal news, corporate announcements, and financial results. Media:   \n",
            "         mediarelations@paypal.com Need help? Visit the PayPal Help Center: http://paypal.com/help \"\n",
            "           },                                                                                       \n",
            "           {                                                                                        \n",
            "             \"title\": \"PayPal Latest News & Headlines - The Business Times\",                        \n",
            "             \"url\": \"https://www.businesstimes.com.sg/keywords/paypal\",                             \n",
            "             \"description\": \" PayPal shares have gained 4.2 per cent so far this year, trailing the \n",
            "         benchmark S&P 500 index's nearly 14 per cent gain. \"                                       \n",
            "           }                                                                                        \n",
            "         ]                                                                                          \n",
            "DEBUG    ============== assistant ==============                                                    \n",
            "DEBUG    Here are the latest news items about PayPal:                                               \n",
            "                                                                                                    \n",
            "         1. **PayPal Surpasses $30B in Global Small Business Lending**                              \n",
            "            PayPal Holdings, Inc. announced it has passed $30 billion in global loan volume, marking\n",
            "         a significant milestone in its efforts to support small businesses worldwide.              \n",
            "            [Read more](https://finance.yahoo.com/quote/PYPL/press-releases/)                       \n",
            "                                                                                                    \n",
            "         2. **PayPal's Shares Slide as EU Lawmaker Raises Prospect of New Fees Amid Trade Tensions**\n",
            "            PayPal's shares fell 5% after a European Union lawmaker suggested that payment firms    \n",
            "         could face new fees amid escalating trade tensions.                                        \n",
            "            [Read                                                                                   \n",
            "         more](https://www.reuters.com/technology/paypal-shares-slide-eu-lawmaker-raises-prospect-ne\n",
            "         w-fees-amid-trade-tensions-2025-03-28/)                                                    \n",
            "                                                                                                    \n",
            "         3. **PayPal Cuts 2,000 Jobs in Latest Tech Layoffs**                                       \n",
            "            PayPal is the latest tech firm to cut costs, announcing layoffs of 2,000 employees as   \n",
            "         the global economy weakens.                                                                \n",
            "            [Read more](https://www.bbc.com/news/topics/c50znx8v8j4t)                               \n",
            "                                                                                                    \n",
            "         4. **PayPal Reaches $2M Cybersecurity Settlement with New York Regulators**                \n",
            "            PayPal has agreed to a $2 million settlement with New York regulators to resolve a      \n",
            "         cybersecurity investigation.                                                               \n",
            "            [Read more](https://www.finextra.com/company-news/363/paypal)                           \n",
            "DEBUG    **************** METRICS START ****************                                            \n",
            "DEBUG    * Time to generate response:   2.6168s                                                     \n",
            "DEBUG    * Tokens per second:           205.5960 tokens/s                                           \n",
            "DEBUG    * Input tokens:                1148                                                        \n",
            "DEBUG    * Output tokens:               538                                                         \n",
            "DEBUG    * Total tokens:                1686                                                        \n",
            "DEBUG    * Completion time:             1.9564s                                                     \n",
            "DEBUG    * Prompt time:                 0.0511s                                                     \n",
            "DEBUG    * Queue time:                  0.3959s                                                     \n",
            "DEBUG    * Total time:                  2.0074s                                                     \n",
            "DEBUG    **************** METRICS END ******************                                            \n",
            "DEBUG    ---------- Groq Response End ----------                                                    \n",
            "DEBUG    Added 4 Messages to AgentMemory                                                            \n",
            "DEBUG    Added AgentRun to AgentMemory                                                              \n",
            "DEBUG    --**-- Logging Agent Run                                                                   \n",
            "DEBUG    *********** Agent Run End: 5124b439-893f-41fe-9cce-144d4211d407 ***********                \n",
            "┏━ Message ━━━━━━━━━━━━━━━━━━━━━━━━━━━━━━━━━━━━━━━━━━━━━━━━━━━━━━━━━━━━━━━━━━━━━━━━━━━━━━━━━━━━━━━━┓\n",
            "┃                                                                                                  ┃\n",
            "┃ PayPal                                                                                           ┃\n",
            "┃                                                                                                  ┃\n",
            "┗━━━━━━━━━━━━━━━━━━━━━━━━━━━━━━━━━━━━━━━━━━━━━━━━━━━━━━━━━━━━━━━━━━━━━━━━━━━━━━━━━━━━━━━━━━━━━━━━━━┛\n",
            "┏━ Response (5.0s) ━━━━━━━━━━━━━━━━━━━━━━━━━━━━━━━━━━━━━━━━━━━━━━━━━━━━━━━━━━━━━━━━━━━━━━━━━━━━━━━━┓\n",
            "┃                                                                                                  ┃\n",
            "┃ Running:                                                                                         ┃\n",
            "┃                                                                                                  ┃\n",
            "┃  • google_search(language=en, max_results=10, query=latest news PayPal)                          ┃\n",
            "┃                                                                                                  ┃\n",
            "┃ Here are the latest news items about PayPal:                                                     ┃\n",
            "┃                                                                                                  ┃\n",
            "┃  1 PayPal Surpasses $30B in Global Small Business Lending                                        ┃\n",
            "┃    PayPal Holdings, Inc. announced it has passed $30 billion in global loan volume, marking a    ┃\n",
            "┃    significant milestone in its efforts to support small businesses worldwide.                   ┃\n",
            "┃    Read more                                                                                     ┃\n",
            "┃  2 PayPal's Shares Slide as EU Lawmaker Raises Prospect of New Fees Amid Trade Tensions          ┃\n",
            "┃    PayPal's shares fell 5% after a European Union lawmaker suggested that payment firms could    ┃\n",
            "┃    face new fees amid escalating trade tensions.                                                 ┃\n",
            "┃    Read more                                                                                     ┃\n",
            "┃  3 PayPal Cuts 2,000 Jobs in Latest Tech Layoffs                                                 ┃\n",
            "┃    PayPal is the latest tech firm to cut costs, announcing layoffs of 2,000 employees as the     ┃\n",
            "┃    global economy weakens.                                                                       ┃\n",
            "┃    Read more                                                                                     ┃\n",
            "┃  4 PayPal Reaches $2M Cybersecurity Settlement with New York Regulators                          ┃\n",
            "┃    PayPal has agreed to a $2 million settlement with New York regulators to resolve a            ┃\n",
            "┃    cybersecurity investigation.                                                                  ┃\n",
            "┃    Read more                                                                                     ┃\n",
            "┃                                                                                                  ┃\n",
            "┗━━━━━━━━━━━━━━━━━━━━━━━━━━━━━━━━━━━━━━━━━━━━━━━━━━━━━━━━━━━━━━━━━━━━━━━━━━━━━━━━━━━━━━━━━━━━━━━━━━┛"
          ]
        }
      ]
    },
    {
      "cell_type": "code",
      "source": [
        "web_agent = Agent(\n",
        "    model=Groq(id=\"deepseek-r1-distill-llama-70b\"),\n",
        "    tools=[GoogleSearch()],\n",
        "    description=\"You are a news agent that helps users find the latest news.\",\n",
        "    instructions=[\n",
        "        \"Given the channel name by the user, provide latest information about the channel.\",\n",
        "        \"Search for 10 news items and select the top 4 unique items.\",\n",
        "        \"Search in English and in Tamil.\",\n",
        "    ],\n",
        "    show_tool_calls=True,\n",
        "    #debug_mode=True,\n",
        ")\n",
        "web_agent.print_response(\"Karthik's Show\", markdown=True)"
      ],
      "metadata": {
        "colab": {
          "base_uri": "https://localhost:8080/"
        },
        "id": "AdBntXWByOCX",
        "outputId": "36f8e623-558b-4396-a661-ba76593955f2"
      },
      "execution_count": 26,
      "outputs": [
        {
          "output_type": "stream",
          "name": "stdout",
          "text": [
            "┏━ Message ━━━━━━━━━━━━━━━━━━━━━━━━━━━━━━━━━━━━━━━━━━━━━━━━━━━━━━━━━━━━━━━━━━━━━━━━━━━━━━━━━━━━━━━━┓\n",
            "┃                                                                                                  ┃\n",
            "┃ Karthik's Show                                                                                   ┃\n",
            "┃                                                                                                  ┃\n",
            "┗━━━━━━━━━━━━━━━━━━━━━━━━━━━━━━━━━━━━━━━━━━━━━━━━━━━━━━━━━━━━━━━━━━━━━━━━━━━━━━━━━━━━━━━━━━━━━━━━━━┛\n",
            "┏━ Response (4.7s) ━━━━━━━━━━━━━━━━━━━━━━━━━━━━━━━━━━━━━━━━━━━━━━━━━━━━━━━━━━━━━━━━━━━━━━━━━━━━━━━━┓\n",
            "┃                                                                                                  ┃\n",
            "┃ Running:                                                                                         ┃\n",
            "┃                                                                                                  ┃\n",
            "┃  • google_search(query=latest news Karthik's Show, language=en, max_results=10)                  ┃\n",
            "┃                                                                                                  ┃\n",
            "┃ Here are the top 4 unique news items about Karthik's Show:                                       ┃\n",
            "┃                                                                                                  ┃\n",
            "┃  1 AI Trends in 2025                                                                             ┃\n",
            "┃    Karthik's Show recently released a video discussing the latest trends in Artificial           ┃\n",
            "┃    Intelligence for the year 2025. The video highlights key developments in AI technology and    ┃\n",
            "┃    their potential impact on various industries.                                                 ┃\n",
            "┃    Watch Here                                                                                    ┃\n",
            "┃  2 Top 5 AI Agent Frameworks in 2025                                                             ┃\n",
            "┃    In another video, Karthik's Show explored the top 5 AI agent frameworks that will dominate in ┃\n",
            "┃    2025. The video provides insights into the tools and technologies shaping the future of AI.   ┃\n",
            "┃    Watch Here                                                                                    ┃\n",
            "┃  3 What is RAG in LLM?                                                                           ┃\n",
            "┃    Karthik's Show also released an educational video explaining Retrieval Augmented Generation   ┃\n",
            "┃    (RAG) in Large Language Models (LLMs). This video helps viewers understand how RAG enhances   ┃\n",
            "┃    AI models.                                                                                    ┃\n",
            "┃    Watch Here                                                                                    ┃\n",
            "┃  4 DeepSeek Explained in Tamil                                                                   ┃\n",
            "┃    In a recent upload, Karthik's Show explained the concept of DeepSeek in Tamil. The video is   ┃\n",
            "┃    part of their efforts to make advanced AI topics accessible to a broader audience.            ┃\n",
            "┃    Watch Here                                                                                    ┃\n",
            "┃                                                                                                  ┃\n",
            "┃ Let me know if you'd like more details about any of these!                                       ┃\n",
            "┃                                                                                                  ┃\n",
            "┗━━━━━━━━━━━━━━━━━━━━━━━━━━━━━━━━━━━━━━━━━━━━━━━━━━━━━━━━━━━━━━━━━━━━━━━━━━━━━━━━━━━━━━━━━━━━━━━━━━┛"
          ]
        }
      ]
    },
    {
      "cell_type": "code",
      "source": [
        "team_Agents = Agent(\n",
        "    model=Groq(id=\"deepseek-r1-distill-llama-70b\"),\n",
        "    team = [youtube_agent, web_agent],\n",
        "    instruction = (\"Summarize the video based on the URL provided by the user and gather latest information about the channel\"),\n",
        "    show_tool_calls = True\n",
        ")"
      ],
      "metadata": {
        "id": "pzjBt7Y6z9XQ"
      },
      "execution_count": 29,
      "outputs": []
    },
    {
      "cell_type": "code",
      "source": [
        "team_Agents.print_response(\"Summarize this video https://youtu.be/mDOqyIk_lLk?si=nXfDZuwDkFBZa6q1 and provide latest information about the Karthik's Show channel\")"
      ],
      "metadata": {
        "colab": {
          "base_uri": "https://localhost:8080/"
        },
        "id": "cT1boczM1y9z",
        "outputId": "9d552500-0e22-44b7-ba0d-13a4c805a3fe"
      },
      "execution_count": 31,
      "outputs": [
        {
          "output_type": "stream",
          "name": "stdout",
          "text": [
            "┏━ Message ━━━━━━━━━━━━━━━━━━━━━━━━━━━━━━━━━━━━━━━━━━━━━━━━━━━━━━━━━━━━━━━━━━━━━━━━━━━━━━━━━━━━━━━━┓\n",
            "┃                                                                                                  ┃\n",
            "┃ Summarize this video https://youtu.be/mDOqyIk_lLk?si=nXfDZuwDkFBZa6q1 and provide latest         ┃\n",
            "┃ information about the Karthik's Show channel                                                     ┃\n",
            "┃                                                                                                  ┃\n",
            "┗━━━━━━━━━━━━━━━━━━━━━━━━━━━━━━━━━━━━━━━━━━━━━━━━━━━━━━━━━━━━━━━━━━━━━━━━━━━━━━━━━━━━━━━━━━━━━━━━━━┛\n",
            "┏━ Response (58.3s) ━━━━━━━━━━━━━━━━━━━━━━━━━━━━━━━━━━━━━━━━━━━━━━━━━━━━━━━━━━━━━━━━━━━━━━━━━━━━━━━┓\n",
            "┃                                                                                                  ┃\n",
            "┃ Running:                                                                                         ┃\n",
            "┃                                                                                                  ┃\n",
            "┃  • transfer_task_to_agent_0(task_description=Summarize the YouTube video and provide captions,   ┃\n",
            "┃    expected_output=A summary of the video content along with the captions,                       ┃\n",
            "┃    additional_information=https://youtu.be/mDOqyIk_lLk?si=nXfDZuwDkFBZa6q1)                      ┃\n",
            "┃                                                                                                  ┃\n",
            "┃ Running:                                                                                         ┃\n",
            "┃                                                                                                  ┃\n",
            "┃  • transfer_task_to_agent_1(task_description=Search for the latest information about Karthik's   ┃\n",
            "┃    Show channel, expected_output=A summary of the latest updates or notable content from         ┃\n",
            "┃    Karthik's Show channel, additional_information=Karthik's Show channel, latest updates, recent ┃\n",
            "┃    videos, popularity, or any notable news)                                                      ┃\n",
            "┃                                                                                                  ┃\n",
            "┃         Summary of the YouTube Video and Latest Information About Karthik's Show Channel         ┃\n",
            "┃                                                                                                  ┃\n",
            "┃                                          Video Summary:                                          ┃\n",
            "┃                                                                                                  ┃\n",
            "┃ The YouTube video you provided, titled \"Create Basic Multi AI Agents Using Phidata & Deep Seek\", ┃\n",
            "┃ is part of the Karthik's Show channel. The video focuses on explaining how to create basic       ┃\n",
            "┃ multi-AI agents using tools like Phidata and Deep Seek. It provides a practical tutorial for     ┃\n",
            "┃ implementing AI agents, catering to tech enthusiasts and learners interested in AI and data      ┃\n",
            "┃ science.                                                                                         ┃\n",
            "┃                                                                                                  ┃\n",
            "┃                         Latest Information About Karthik's Show Channel:                         ┃\n",
            "┃                                                                                                  ┃\n",
            "┃ Here are the latest updates about the Karthik's Show channel:                                    ┃\n",
            "┃                                                                                                  ┃\n",
            "┃  1 Channel Overview:                                                                             ┃\n",
            "┃     • The channel has 111K subscribers and features 240 videos focused on the latest             ┃\n",
            "┃       technologies, particularly in Tamil.                                                       ┃\n",
            "┃     • New videos are uploaded every week, making it a consistent source of tech-related content. ┃\n",
            "┃  2 Recent Videos:                                                                                ┃\n",
            "┃     • \"Top 5 AI Agent Frameworks 2025\" (Uploaded: January 19, 2025)                              ┃\n",
            "┃        • This video explores the top AI agent frameworks for 2025, offering insights into AI     ┃\n",
            "┃          trends.                                                                                 ┃\n",
            "┃        • Link                                                                                    ┃\n",
            "┃     • \"Difference between AI Agents & Generative AI\" (Uploaded: February 23, 2025)               ┃\n",
            "┃        • This video explains the distinction between AI agents and generative AI in Tamil.       ┃\n",
            "┃        • Link                                                                                    ┃\n",
            "┃     • \"Create Basic Multi AI Agents Using Phidata & Deep Seek\" (Uploaded: March 2, 2025)         ┃\n",
            "┃        • A tutorial on implementing multi-AI agents using Phidata and Deep Seek.                 ┃\n",
            "┃        • Link                                                                                    ┃\n",
            "┃  3 Content Focus:                                                                                ┃\n",
            "┃     • The channel emphasizes AI, technology, and education, making it a valuable resource for    ┃\n",
            "┃       Tamil-speaking tech enthusiasts.                                                           ┃\n",
            "┃                                                                                                  ┃\n",
            "┃ Let me know if you'd like more details about specific videos or updates!                         ┃\n",
            "┃                                                                                                  ┃\n",
            "┗━━━━━━━━━━━━━━━━━━━━━━━━━━━━━━━━━━━━━━━━━━━━━━━━━━━━━━━━━━━━━━━━━━━━━━━━━━━━━━━━━━━━━━━━━━━━━━━━━━┛"
          ]
        }
      ]
    },
    {
      "cell_type": "code",
      "source": [],
      "metadata": {
        "id": "lggSIpFV2BKS"
      },
      "execution_count": null,
      "outputs": []
    }
  ]
}