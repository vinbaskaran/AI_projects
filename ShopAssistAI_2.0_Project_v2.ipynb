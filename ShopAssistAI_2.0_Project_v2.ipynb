{
  "cells": [
    {
      "cell_type": "markdown",
      "metadata": {
        "id": "view-in-github",
        "colab_type": "text"
      },
      "source": [
        "<a href=\"https://colab.research.google.com/github/vinbaskaran/AI_projects/blob/main/ShopAssistAI_2.0_Project_v2.ipynb\" target=\"_parent\"><img src=\"https://colab.research.google.com/assets/colab-badge.svg\" alt=\"Open In Colab\"/></a>"
      ]
    },
    {
      "cell_type": "markdown",
      "id": "0982c19e",
      "metadata": {
        "id": "0982c19e"
      },
      "source": [
        "# ShopAssist AI - 2.0 - Enhanced Approach using Function Calling"
      ]
    },
    {
      "cell_type": "markdown",
      "id": "dcbcd148",
      "metadata": {
        "id": "dcbcd148"
      },
      "source": [
        "Dataset obtained from : https://drive.google.com/file/d/1Z4Qta-ZpYGc-jjFstJXckyJKIvoQXTJj/view?usp=sharing"
      ]
    },
    {
      "cell_type": "markdown",
      "id": "34d671dc",
      "metadata": {
        "id": "34d671dc"
      },
      "source": [
        "Starter Notebook obtained from: https://colab.research.google.com/drive/1T-a5WIcle8XhBS5aX5tzFbc2S3MwFnT1#scrollTo=ad9b47b8\n",
        "\n"
      ]
    },
    {
      "cell_type": "markdown",
      "source": [
        "# Starter Notebook"
      ],
      "metadata": {
        "id": "Sxa_To8xWBHm"
      },
      "id": "Sxa_To8xWBHm"
    },
    {
      "cell_type": "code",
      "source": [
        "# Import the libraries\n",
        "import pandas as pd\n",
        "from IPython.display import display, HTML\n",
        "# Set the display width to control the output width\n",
        "pd.set_option('display.width', 100)"
      ],
      "metadata": {
        "id": "weSLrO95Ragf"
      },
      "id": "weSLrO95Ragf",
      "execution_count": 20,
      "outputs": []
    },
    {
      "cell_type": "code",
      "source": [
        "# Import the libraries\n",
        "import os, json, ast\n",
        "import openai\n",
        "from tenacity import retry, wait_random_exponential, stop_after_attempt\n",
        "from google.colab import userdata"
      ],
      "metadata": {
        "id": "2vwQDwkpR2w3"
      },
      "id": "2vwQDwkpR2w3",
      "execution_count": 21,
      "outputs": []
    },
    {
      "cell_type": "code",
      "source": [
        "os.environ['OPENAI_API_KEY'] = userdata.get('OPENAI_API_KEY')"
      ],
      "metadata": {
        "id": "MHOkhW-IR3Sn"
      },
      "id": "MHOkhW-IR3Sn",
      "execution_count": 22,
      "outputs": []
    },
    {
      "cell_type": "code",
      "source": [
        "def initialize_conversation():\n",
        "    '''\n",
        "    Returns a list [{\"role\": \"system\", \"content\": system_message}]\n",
        "    '''\n",
        "\n",
        "    delimiter = \"####\"\n",
        "\n",
        "    example_user_dict = {'GPU intensity': \"high\",\n",
        "                        'Display quality':\"high\",\n",
        "                        'Portability': \"low\",\n",
        "                        'Multitasking': \"high\",\n",
        "                        'Processing speed': \"high\",\n",
        "                        'Budget': \"150000\"}\n",
        "\n",
        "    example_user_req = {'GPU intensity': \"_\",\n",
        "                        'Display quality': \"_\",\n",
        "                        'Portability': \"_\",\n",
        "                        'Multitasking': \"_\",\n",
        "                        'Processing speed': \"_\",\n",
        "                        'Budget': \"_\"}\n",
        "\n",
        "    system_message = f\"\"\"\n",
        "    You are an intelligent laptop gadget expert and your goal is to find the best laptop for a user.\n",
        "    You need to ask relevant questions and understand the user profile by analysing the user's responses.\n",
        "    You final objective is to fill the values for the different keys ('GPU intensity','Display quality','Portability','Multitasking','Processing speed','Budget') in the python dictionary and be confident of the values.\n",
        "    These key value pairs define the user's profile.\n",
        "    The python dictionary looks like this\n",
        "    {{'GPU intensity': 'values','Display quality': 'values','Portability': 'values','Multitasking': 'values','Processing speed': 'values','Budget': 'values'}}\n",
        "    The value for 'Budget' should be a numerical value extracted from the user's response.\n",
        "    The values for all keys, except 'Budget', should be 'low', 'medium', or 'high' based on the importance of the corresponding keys, as stated by user.\n",
        "    All the values in the example dictionary are only representative values.\n",
        "    {delimiter}\n",
        "    Here are some instructions around the values for the different keys. If you do not follow this, you'll be heavily penalised:\n",
        "    - The values for all keys, except 'Budget', should strictly be either 'low', 'medium', or 'high' based on the importance of the corresponding keys, as stated by user.\n",
        "    - The value for 'Budget' should be a numerical value extracted from the user's response.\n",
        "    - 'Budget' value needs to be greater than or equal to 25000 INR. If the user says less than that, please mention that there are no laptops in that range.\n",
        "    - Do not randomly assign values to any of the keys.\n",
        "    - The values need to be inferred from the user's response.\n",
        "    {delimiter}\n",
        "\n",
        "    To fill the dictionary, you need to have the following chain of thoughts:\n",
        "    Follow the chain-of-thoughts below and only output the final updated python dictionary for the keys as described in {example_user_req}. \\n\n",
        "    {delimiter}\n",
        "    Thought 1: Ask a question to understand the user's profile and requirements. \\n\n",
        "    If their primary use for the laptop is unclear. Ask followup questions to understand their needs.\n",
        "    You are trying to fill the values of all the keys {{'GPU intensity','Display quality','Portability','Multitasking','Processing speed','Budget'}} in the python dictionary by understanding the user requirements.\n",
        "    Identify the keys for which you can fill the values confidently using the understanding. \\n\n",
        "    Remember the instructions around the values for the different keys.\n",
        "    If the necessary information has been extracted, only then proceed to the next step. \\n\n",
        "    Otherwise, rephrase the question to capture their profile clearly. \\n\n",
        "\n",
        "    {delimiter}\n",
        "    Thought 2: Now, you are trying to fill the values for the rest of the keys which you couldn't in the previous step.\n",
        "    Remember the instructions around the values for the different keys.\n",
        "    Ask questions you might have for all the keys to strengthen your understanding of the user's profile.\n",
        "    If yes, move to the next Thought. If no, ask question on the keys whose values you are unsure of. \\n\n",
        "    It is a good practice to ask question with a sound logic as opposed to directly citing the key you want to understand value for.\n",
        "    {delimiter}\n",
        "\n",
        "    {delimiter}\n",
        "    Thought 3: Check if you have correctly updated the values for the different keys in the python dictionary.\n",
        "    If you are not confident about any of the values, ask clarifying questions.\n",
        "    {delimiter}\n",
        "\n",
        "    {delimiter}\n",
        "    Here is a sample conversation between the user and assistant:\n",
        "    User: \"Hi, I am an editor.\"\n",
        "    Assistant: \"Great! As an editor, you likely require a laptop that can handle demanding tasks. Hence, the laptop should have high multitasking capability. You would also need a high end display for better visuals and editing. May I know what kind of work do you primarily focus on? Are you more involved in video editing, photo editing, or both? Understanding the specific type of editing work will help me tailor my recommendations accordingly. Let me know if my understanding is correct until now.\"\n",
        "    User: \"I primarily work with After Effects.\"\n",
        "    Assistant: \"Thank you for providing that information. Working with After Effects involves working with graphics, animations, and rendering, which will require high GPU. Do you work with high-resolution media files, such as 4K videos or RAW photos? Understanding your file sizes will help determine the storage capacity and processing power needed.\"\n",
        "    User: \"Yes, sometimes I work with 4K videos as well.\"\n",
        "    Assistant: \"Thank you for the information. Processing 4K vidoes will require a good processor and high GPU. I think we have already determined earlier that you need a high GPU. To ensure I have a complete understanding of your needs, I have one more question: Are you frequently on the go and require a laptop that is lightweight and easy to carry, or do you primarily work from a stationary location?\"\n",
        "    User: \"Yes, sometimes I travel but do not carry my laptop.\"\n",
        "    Assistant:\"Could you kindly let me know your budget for the laptop? This will help me find options that fit within your price range while meeting the specified requirements.\"\n",
        "    User: \"my max budget is 1.5lakh inr\"\n",
        "    Assistant: \"{example_user_dict}\"\n",
        "    {delimiter}\n",
        "\n",
        "    Start with a short welcome message and encourage the user to share their requirements.\n",
        "    \"\"\"\n",
        "    conversation = [{\"role\": \"system\", \"content\": system_message}]\n",
        "    # conversation = system_message\n",
        "    return conversation"
      ],
      "metadata": {
        "id": "bFDEitjjR6Gc"
      },
      "id": "bFDEitjjR6Gc",
      "execution_count": 23,
      "outputs": []
    },
    {
      "cell_type": "code",
      "source": [
        "def moderation_check(user_input):\n",
        "    # Call the OpenAI API to perform moderation on the user's input.\n",
        "    response = openai.moderations.create(input=user_input)\n",
        "\n",
        "    #print(response)\n",
        "\n",
        "    # Extract the moderation result from the API response.\n",
        "    moderation_output = response.results[0].flagged\n",
        "    # Check if the input was flagged by the moderation system.\n",
        "    if response.results[0].flagged == True:\n",
        "        # If flagged, return \"Flagged\"\n",
        "        return \"Flagged\"\n",
        "    else:\n",
        "        # If not flagged, return \"Not Flagged\"\n",
        "        return \"Not Flagged\""
      ],
      "metadata": {
        "id": "W3iG0XoUSLp0"
      },
      "id": "W3iG0XoUSLp0",
      "execution_count": 24,
      "outputs": []
    },
    {
      "cell_type": "code",
      "source": [
        "def intent_confirmation_layer(response_assistant):\n",
        "\n",
        "    delimiter = \"####\"\n",
        "\n",
        "    allowed_values = {'low','medium','high'}\n",
        "\n",
        "    prompt = f\"\"\"\n",
        "    You are a senior evaluator who has an eye for detail.The input text will contain a user requirement captured through 6 keys.\n",
        "    You are provided an input. You need to evaluate if the input text has the following keys:\n",
        "    {{\n",
        "    'GPU intensity': 'values',\n",
        "    'Display quality':'values',\n",
        "    'Portability':'values',\n",
        "    'Multitasking':'values',\n",
        "    'Processing speed':'values',\n",
        "    'Budget':'number'\n",
        "    }}\n",
        "    The values for the keys should only be from the allowed values: {allowed_values}.\n",
        "    The 'Budget' key can take only a numerical value.\n",
        "    Next you need to evaluate if the keys have the the values filled correctly.\n",
        "    Only output a one-word string in JSON format at the key 'result' - Yes/No.\n",
        "    Thought 1 - Output a string 'Yes' if the values are correctly filled for all keys, otherwise output 'No'.\n",
        "    Thought 2 - If the answer is No, mention the reason in the key 'reason'.\n",
        "    THought 3 - Think carefully before the answering.\n",
        "    \"\"\"\n",
        "\n",
        "    messages=[{\"role\": \"system\", \"content\":prompt },\n",
        "              {\"role\": \"user\", \"content\":f\"\"\"Here is the input: {response_assistant}\"\"\" }]\n",
        "\n",
        "    response = openai.chat.completions.create(\n",
        "                                    model=\"gpt-3.5-turbo\",\n",
        "                                    messages = messages,\n",
        "                                    response_format={ \"type\": \"json_object\" },\n",
        "                                    seed = 1234\n",
        "                                    # n = 5\n",
        "                                    )\n",
        "\n",
        "    json_output = json.loads(response.choices[0].message.content)\n",
        "\n",
        "    return json_output"
      ],
      "metadata": {
        "id": "EZCuzvNjSi_p"
      },
      "id": "EZCuzvNjSi_p",
      "execution_count": 25,
      "outputs": []
    },
    {
      "cell_type": "code",
      "source": [
        "def dictionary_present(response):\n",
        "    delimiter = \"####\"\n",
        "\n",
        "    user_req = {'GPU intensity': 'high',\n",
        "                'Display quality': 'high',\n",
        "                'Portability': 'medium',\n",
        "                'Multitasking': 'high',\n",
        "                'Processing speed': 'high',\n",
        "                'Budget': '200000'}\n",
        "\n",
        "    prompt = f\"\"\"You are a python expert. You are provided an input.\n",
        "            You have to check if there is a python dictionary present in the string.\n",
        "            It will have the following format {user_req}.\n",
        "            Your task is to just extract the relevant values from the input and return only the python dictionary in JSON format.\n",
        "            The output should match the format as {user_req}.\n",
        "\n",
        "            {delimiter}\n",
        "            Make sure that the value of budget is also present in the user input. ###\n",
        "            The output should contain the exact keys and values as present in the input.\n",
        "            Ensure the keys and values are in the given format:\n",
        "            {{\n",
        "            'GPU intensity': 'low/medium/high ',\n",
        "            'Display quality':'low/medium/high',\n",
        "            'Portability':'low/medium/high',\n",
        "            'Multitasking':'low/medium/high',\n",
        "            'Processing speed':'low/medium/high',\n",
        "            'Budget':'numerical value'\n",
        "            }}\n",
        "            Here are some sample input output pairs for better understanding:\n",
        "            {delimiter}\n",
        "            input 1: - GPU intensity: low - Display quality: high - Portability: low - Multitasking: high - Processing speed: medium - Budget: 50,000 INR\n",
        "            output 1: {{'GPU intensity': 'low', 'Display quality': 'high', 'Portability': 'low', 'Multitasking': 'high', 'Processing speed': 'medium', 'Budget': '50000'}}\n",
        "\n",
        "            input 2: {{'GPU intensity':     'low', 'Display quality':     'low', 'Portability':    'medium', 'Multitasking': 'medium', 'Processing speed': 'low', 'Budget': '90,000'}}\n",
        "            output 2: {{'GPU intensity': 'low', 'Display quality': 'low', 'Portability': 'medium', 'Multitasking': 'medium', 'Processing speed': 'low', 'Budget': '90000'}}\n",
        "\n",
        "            input 3: Here is your user profile 'GPU intensity': 'high','Display quality': 'high','Portability': 'medium','Multitasking': 'high','Processing speed': 'high','Budget': '200000 INR'\n",
        "            output 3: {{'GPU intensity': 'high','Display quality': 'high','Portability': 'medium','Multitasking': 'high','Processing speed': 'high','Budget': '200000'}}\n",
        "            {delimiter}\n",
        "            \"\"\"\n",
        "    messages = [{\"role\": \"system\", \"content\":prompt },\n",
        "                {\"role\": \"user\", \"content\":f\"\"\"Here is the user input: {response}\"\"\" }]\n",
        "\n",
        "    confirmation = get_chat_completions(messages, json_format = True)\n",
        "\n",
        "    return confirmation"
      ],
      "metadata": {
        "id": "QS1HdeOzSr7F"
      },
      "id": "QS1HdeOzSr7F",
      "execution_count": 26,
      "outputs": []
    },
    {
      "cell_type": "code",
      "source": [
        "def product_map_layer(laptop_description):\n",
        "    delimiter = \"#####\"\n",
        "\n",
        "    lap_spec = {\n",
        "        \"GPU intensity\":\"(Type of the Graphics Processor)\",\n",
        "        \"Display quality\":\"(Display Type, Screen Resolution, Display Size)\",\n",
        "        \"Portability\":\"(Laptop Weight)\",\n",
        "        \"Multitasking\":\"(RAM Size)\",\n",
        "        \"Processing speed\":\"(CPU Type, Core, Clock Speed)\"\n",
        "    }\n",
        "\n",
        "    values = {'low','medium','high'}\n",
        "\n",
        "    prompt=f\"\"\"\n",
        "    You are a Laptop Specifications Classifier whose job is to extract the key features of laptops and classify them as per their requirements.\n",
        "    To analyze each laptop, perform the following steps:\n",
        "    Step 1: Extract the laptop's primary features from the description {laptop_description}\n",
        "    Step 2: Store the extracted features in {lap_spec} \\\n",
        "    Step 3: Classify each of the items in {lap_spec} into {values} based on the following rules: \\\n",
        "    {delimiter}\n",
        "    GPU Intensity:\n",
        "    - low: <<< if GPU is entry-level such as an integrated graphics processor or entry-level dedicated graphics like Intel UHD >>> , \\n\n",
        "    - medium: <<< if mid-range dedicated graphics like M1, AMD Radeon, Intel Iris >>> , \\n\n",
        "    - high: <<< high-end dedicated graphics like Nvidia RTX >>> , \\n\n",
        "\n",
        "    Display Quality:\n",
        "    - low: <<< if resolution is below Full HD (e.g., 1366x768). >>> , \\n\n",
        "    - medium: <<< if Full HD resolution (1920x1080) or higher. >>> , \\n\n",
        "    - high: <<< if High-resolution display (e.g., 4K, Retina) with excellent color accuracy and features like HDR support. >>> \\n\n",
        "\n",
        "    Portability:\n",
        "    - high: <<< if laptop weight is less than 1.51 kg >>> , \\n\n",
        "    - medium: <<< if laptop weight is between 1.51 kg and 2.51 kg >>> , \\n\n",
        "    - low: <<< if laptop weight is greater than 2.51 kg >>> \\n\n",
        "\n",
        "    Multitasking:\n",
        "    - low: <<< If RAM size is 8 GB, 12 GB >>> , \\n\n",
        "    - medium: <<< if RAM size is 16 GB >>> , \\n\n",
        "    - high: <<< if RAM size is 32 GB, 64 GB >>> \\n\n",
        "\n",
        "    Processing Speed:\n",
        "    - low: <<< if entry-level processors like Intel Core i3, AMD Ryzen 3 >>> , \\n\n",
        "    - medium: <<< if Mid-range processors like Intel Core i5, AMD Ryzen 5 >>> , \\n\n",
        "    - high: <<< if High-performance processors like Intel Core i7, AMD Ryzen 7 or higher >>> \\n\n",
        "    {delimiter}\n",
        "\n",
        "    {delimiter}\n",
        "    Here is input output pair for few-shot learning:\n",
        "    input 1: \"The Dell Inspiron is a versatile laptop that combines powerful performance and affordability. It features an Intel Core i5 processor clocked at 2.4 GHz, ensuring smooth multitasking and efficient computing. With 8GB of RAM and an SSD, it offers quick data access and ample storage capacity. The laptop sports a vibrant 15.6\" LCD display with a resolution of 1920x1080, delivering crisp visuals and immersive viewing experience. Weighing just 2.5 kg, it is highly portable, making it ideal for on-the-go usage. Additionally, it boasts an Intel UHD GPU for decent graphical performance and a backlit keyboard for enhanced typing convenience. With a one-year warranty and a battery life of up to 6 hours, the Dell Inspiron is a reliable companion for work or entertainment. All these features are packed at an affordable price of 35,000, making it an excellent choice for budget-conscious users.\"\n",
        "    output 1: {{'GPU intensity': 'medium','Display quality':'medium','Portability':'medium','Multitasking':'high','Processing speed':'medium'}}\n",
        "\n",
        "    {delimiter}\n",
        "    ### Strictly don't keep any other text in the values of the JSON dictionary other than low or medium or high ###\n",
        "    \"\"\"\n",
        "    input = f\"\"\"Follow the above instructions step-by-step and output the dictionary in JSON format {lap_spec} for the following laptop {laptop_description}.\"\"\"\n",
        "    #see that we are using the Completion endpoint and not the Chatcompletion endpoint\n",
        "    messages=[{\"role\": \"system\", \"content\":prompt },{\"role\": \"user\",\"content\":input}]\n",
        "\n",
        "    response = get_chat_completions(messages, json_format = True)\n",
        "\n",
        "    #   response = openai.chat.completions.create(\n",
        "    #     model=\"gpt-3.5-turbo-0125\",\n",
        "    #     messages=[{\"role\": \"system\", \"content\":prompt },{\"role\": \"user\",\"content\":input}],\n",
        "    #     response_format={ \"type\": \"json_object\" }\n",
        "    #     # max_tokens = 2000,\n",
        "    #     )\n",
        "\n",
        "    # response = json.loads(response)\n",
        "    return response"
      ],
      "metadata": {
        "id": "Y4fnZtnSSxWl"
      },
      "id": "Y4fnZtnSSxWl",
      "execution_count": 27,
      "outputs": []
    },
    {
      "cell_type": "code",
      "source": [
        "import pandas as pd  # Importing the pandas library for data manipulation\n",
        "import json\n",
        "import ast # Import the ast module\n",
        "\n",
        "def compare_laptops_with_user(user_req_string):\n",
        "    laptop_df = pd.read_csv('updated_laptop.csv')\n",
        "\n",
        "    # Convert the 'laptop_feature' column from string representation of dictionary to actual dictionary\n",
        "    laptop_df['laptop_feature'] = laptop_df['laptop_feature'].apply(ast.literal_eval)\n",
        "\n",
        "    # Use the input user_req_string to get the user requirements dictionary\n",
        "    user_requirements = dictionary_present(user_req_string)\n",
        "\n",
        "    # Extracting the budget value from user_requirements and converting it to an integer\n",
        "    budget_value = user_requirements.get('Budget', '0')\n",
        "    if isinstance(budget_value, str):\n",
        "        budget = int(budget_value.replace(',', '').split()[0])\n",
        "    else:\n",
        "        budget = int(budget_value)\n",
        "\n",
        "\n",
        "    # Creating a copy of the DataFrame and filtering laptops based on the budget\n",
        "    filtered_laptops = laptop_df.copy()\n",
        "    filtered_laptops['Price'] = filtered_laptops['Price'].str.replace(',', '').astype(int)\n",
        "    filtered_laptops = filtered_laptops[filtered_laptops['Price'] <= budget].copy()\n",
        "\n",
        "    # Mapping string values 'low', 'medium', 'high' to numerical scores 0, 1, 2\n",
        "    mappings = {'low': 0, 'medium': 1, 'high': 2}\n",
        "\n",
        "    # Creating a new column 'Score' in the filtered DataFrame and initializing it to 0\n",
        "    filtered_laptops['Score'] = 0\n",
        "\n",
        "    # Iterating over each laptop in the filtered DataFrame to calculate scores based on user requirements\n",
        "    for index, row in filtered_laptops.iterrows():\n",
        "        laptop_values = row['laptop_feature'] # Now laptop_values is a dictionary\n",
        "\n",
        "        score = 0\n",
        "\n",
        "        # Comparing user requirements with laptop features and updating scores\n",
        "        for key, user_value in user_requirements.items():\n",
        "            if key == 'Budget':\n",
        "                continue  # Skipping budget comparison\n",
        "            laptop_value = laptop_values.get(key, None)\n",
        "            laptop_mapping = mappings.get(laptop_value, -1)\n",
        "            user_mapping = mappings.get(user_value, -1)\n",
        "            if laptop_mapping >= user_mapping:\n",
        "                score += 1  # Incrementing score if laptop value meets or exceeds user value\n",
        "\n",
        "        filtered_laptops.loc[index, 'Score'] = score  # Updating the 'Score' column in the DataFrame\n",
        "\n",
        "    # Sorting laptops by score in descending order and selecting the top 3 products\n",
        "    top_laptops = filtered_laptops.drop('laptop_feature', axis=1)\n",
        "    top_laptops = top_laptops.sort_values('Score', ascending=False).head(3)\n",
        "    top_laptops_json = top_laptops.to_json(orient='records')  # Converting the top laptops DataFrame to JSON format\n",
        "\n",
        "\n",
        "    return top_laptops_json"
      ],
      "metadata": {
        "id": "mEHX_-QnS3nF"
      },
      "id": "mEHX_-QnS3nF",
      "execution_count": 28,
      "outputs": []
    },
    {
      "cell_type": "code",
      "source": [
        "def recommendation_validation(laptop_recommendation):\n",
        "    data = json.loads(laptop_recommendation)\n",
        "    data1 = []\n",
        "    for i in range(len(data)):\n",
        "        if data[i]['Score'] > 2:\n",
        "            data1.append(data[i])\n",
        "\n",
        "    return data1"
      ],
      "metadata": {
        "id": "aiNI0984S8s3"
      },
      "id": "aiNI0984S8s3",
      "execution_count": 29,
      "outputs": []
    },
    {
      "cell_type": "code",
      "source": [
        "def initialize_conv_reco(products):\n",
        "    system_message = f\"\"\"\n",
        "    You are an intelligent laptop gadget expert and you are tasked with the objective to \\\n",
        "    solve the user queries about any product from the catalogue in the user message \\\n",
        "    You should keep the user profile in mind while answering the questions.\\\n",
        "\n",
        "    Start with a brief summary of each laptop in the following format, in decreasing order of price of laptops:\n",
        "    1. <Laptop Name> : <Major specifications of the laptop>, <Price in Rs>\n",
        "    2. <Laptop Name> : <Major specifications of the laptop>, <Price in Rs>\n",
        "\n",
        "    \"\"\"\n",
        "    user_message = f\"\"\" These are the user's products: {products}\"\"\"\n",
        "    conversation = [{\"role\": \"system\", \"content\": system_message },\n",
        "                    {\"role\":\"user\",\"content\":user_message}]\n",
        "    # conversation_final = conversation[0]['content']\n",
        "    return conversation"
      ],
      "metadata": {
        "id": "8dXrJoDBTAsz"
      },
      "id": "8dXrJoDBTAsz",
      "execution_count": 30,
      "outputs": []
    },
    {
      "cell_type": "code",
      "source": [
        "@retry(wait=wait_random_exponential(min=1, max=20), stop=stop_after_attempt(6))\n",
        "def get_chat_completions(input, json_format = False):\n",
        "    MODEL = 'gpt-3.5-turbo'\n",
        "\n",
        "    system_message_json_output = \"\"\"<<. Return output in JSON format to the key output.>>\"\"\"\n",
        "\n",
        "    # If the output is required to be in JSON format\n",
        "    if json_format == True:\n",
        "        # Append the input prompt to include JSON response as specified by OpenAI\n",
        "        input[0]['content'] += system_message_json_output\n",
        "\n",
        "        # JSON return type specified\n",
        "        chat_completion_json = openai.chat.completions.create(\n",
        "            model = MODEL,\n",
        "            messages = input,\n",
        "            response_format = { \"type\": \"json_object\"},\n",
        "            seed = 1234)\n",
        "\n",
        "        output = json.loads(chat_completion_json.choices[0].message.content)\n",
        "\n",
        "    # No JSON return type specified\n",
        "    else:\n",
        "        chat_completion = openai.chat.completions.create(\n",
        "            model = MODEL,\n",
        "            messages = input,\n",
        "            seed = 2345)\n",
        "\n",
        "        output = chat_completion.choices[0].message.content\n",
        "\n",
        "    return output"
      ],
      "metadata": {
        "id": "h5pc89ghTDRe"
      },
      "id": "h5pc89ghTDRe",
      "execution_count": 31,
      "outputs": []
    },
    {
      "cell_type": "code",
      "source": [
        "def dialogue_mgmt_system():\n",
        "    conversation = initialize_conversation()\n",
        "\n",
        "    introduction = get_chat_completions(conversation)\n",
        "\n",
        "    display(introduction)\n",
        "\n",
        "    top_3_laptops = None\n",
        "\n",
        "    user_input = ''\n",
        "\n",
        "    while(user_input != \"exit\"):\n",
        "\n",
        "        user_input = input(\"\")\n",
        "\n",
        "        moderation = moderation_check(user_input)\n",
        "        if moderation == 'Flagged':\n",
        "            display(\"Sorry, this message has been flagged. Please restart your conversation.\")\n",
        "            break\n",
        "\n",
        "        if top_3_laptops is None:\n",
        "\n",
        "            conversation.append({\"role\": \"user\", \"content\": user_input})\n",
        "\n",
        "            response_assistant = get_chat_completions(conversation)\n",
        "            moderation = moderation_check(response_assistant)\n",
        "            if moderation == 'Flagged':\n",
        "                display(\"Sorry, this message has been flagged. Please restart your conversation.\")\n",
        "                break\n",
        "\n",
        "\n",
        "            confirmation = intent_confirmation_layer(response_assistant)\n",
        "\n",
        "            print(\"Intent Confirmation Yes/No:\",confirmation.get('result'))\n",
        "\n",
        "            if \"No\" in confirmation.get('result'):\n",
        "                conversation.append({\"role\": \"assistant\", \"content\": str(response_assistant)})\n",
        "                print(\"\\n\" + str(response_assistant) + \"\\n\")\n",
        "\n",
        "            else:\n",
        "                print(\"\\n\" + str(response_assistant) + \"\\n\")\n",
        "                print('\\n' + \"Variables extracted!\" + '\\n')\n",
        "\n",
        "                response = dictionary_present(response_assistant)\n",
        "\n",
        "                print(\"Thank you for providing all the information. Kindly wait, while I fetch the products: \\n\")\n",
        "                top_3_laptops = compare_laptops_with_user(response)\n",
        "\n",
        "                print(\"top 3 laptops are\", top_3_laptops)\n",
        "\n",
        "                validated_reco = recommendation_validation(top_3_laptops)\n",
        "\n",
        "                conversation_reco = initialize_conv_reco(validated_reco)\n",
        "\n",
        "                conversation_reco.append({\"role\": \"user\", \"content\": \"This is my user profile\" + str(response)})\n",
        "\n",
        "                recommendation = get_chat_completions(conversation_reco)\n",
        "\n",
        "                moderation = moderation_check(recommendation)\n",
        "                if moderation == 'Flagged':\n",
        "                    display(\"Sorry, this message has been flagged. Please restart your conversation.\")\n",
        "                    break\n",
        "\n",
        "                conversation_reco.append({\"role\": \"assistant\", \"content\": str(recommendation)})\n",
        "\n",
        "                print(str(recommendation) + '\\n')\n",
        "        else:\n",
        "            conversation_reco.append({\"role\": \"user\", \"content\": user_input})\n",
        "\n",
        "            response_asst_reco = get_chat_completions(conversation_reco)\n",
        "\n",
        "            moderation = moderation_check(response_asst_reco)\n",
        "            if moderation == 'Flagged':\n",
        "                print(\"Sorry, this message has been flagged. Please restart your conversation.\")\n",
        "                break\n",
        "\n",
        "            print('\\n' + response_asst_reco + '\\n')\n",
        "            conversation.append({\"role\": \"assistant\", \"content\": response_asst_reco})"
      ],
      "metadata": {
        "id": "54SZIJiETLrU"
      },
      "id": "54SZIJiETLrU",
      "execution_count": 32,
      "outputs": []
    },
    {
      "cell_type": "code",
      "source": [
        "##Run this code once to extract product info in the form of a dictionary\n",
        "laptop_df= pd.read_csv('laptop_data.csv')\n",
        "\n",
        "## Create a new column \"laptop_feature\" that contains the dictionary of the product features\n",
        "laptop_df['laptop_feature'] = laptop_df['Description'].apply(lambda x: product_map_layer(x))\n",
        "laptop_df.to_csv(\"updated_laptop.csv\",index=False,header = True)"
      ],
      "metadata": {
        "id": "EmefSqXxcuZ7"
      },
      "id": "EmefSqXxcuZ7",
      "execution_count": 33,
      "outputs": []
    },
    {
      "cell_type": "code",
      "source": [
        "dialogue_mgmt_system()"
      ],
      "metadata": {
        "colab": {
          "base_uri": "https://localhost:8080/",
          "height": 559
        },
        "id": "YQ_oyE1ATXsC",
        "outputId": "b4948f7b-6eed-4005-a2a1-261e576cedd7"
      },
      "id": "YQ_oyE1ATXsC",
      "execution_count": 38,
      "outputs": [
        {
          "output_type": "display_data",
          "data": {
            "text/plain": [
              "'Hello! Welcome to the laptop recommendation assistant. Please share with me your requirements so that I can help you find the best laptop that suits your needs.'"
            ],
            "application/vnd.google.colaboratory.intrinsic+json": {
              "type": "string"
            }
          },
          "metadata": {}
        },
        {
          "output_type": "stream",
          "name": "stdout",
          "text": [
            "gaming laptop\n",
            "Intent Confirmation Yes/No: No\n",
            "\n",
            "Great to know that you are interested in a gaming laptop! To recommend you the best gaming laptop, could you please specify if you have any specific preferences or requirements? This will help me understand your needs better.\n",
            "\n",
            "high gpu, high processing speed, medium multitasking, medium display, low portability. Budget 250000\n",
            "Intent Confirmation Yes/No: Yes\n",
            "\n",
            "Great! Based on your requirements for a gaming laptop with high GPU, high processing speed, medium multitasking, medium display, and low portability, along with a budget of 250000 INR, I have the following values for you:\n",
            "\n",
            "{'GPU intensity': 'high', 'Display quality': 'medium', 'Portability': 'low', 'Multitasking': 'medium', 'Processing speed': 'high', 'Budget': 250000}\n",
            "\n",
            "\n",
            "Variables extracted!\n",
            "\n",
            "Thank you for providing all the information. Kindly wait, while I fetch the products: \n",
            "\n",
            "top 3 laptops are [{\"Brand\":\"MSI\",\"Model Name\":\"GL65\",\"Core\":\"i7\",\"CPU Manufacturer\":\"Intel\",\"Clock Speed\":\"2.6 GHz\",\"RAM Size\":\"16GB\",\"Storage Type\":\"HDD+SSD\",\"Display Type\":\"IPS\",\"Display Size\":\"15.6\\\"\",\"Graphics Processor\":\"NVIDIA GTX\",\"Screen Resolution\":\"1920x1080\",\"OS\":\"Windows 10\",\"Laptop Weight\":\"2.3 kg\",\"Special Features\":\"RGB Keyboard\",\"Warranty\":\"2 years\",\"Average Battery Life\":\"4 hours\",\"Price\":55000,\"Description\":\"The MSI GL65 is a high-performance laptop designed for gaming enthusiasts. Powered by an Intel Core i7 processor running at 2.6 GHz, it delivers exceptional processing power for smooth gaming and demanding tasks. With 16GB of RAM and a combination of HDD and SSD storage, it offers ample memory and fast data access. The laptop features a 15.6\\\" IPS display with a resolution of 1920x1080, ensuring vivid colors and wide viewing angles for an immersive gaming experience. Equipped with an NVIDIA GTX graphics card, it provides excellent visual performance and smooth gameplay. Weighing just 2.3 kg, it is a portable option for gamers on the move. The laptop also boasts an RGB keyboard, allowing customizable lighting effects for a personalized gaming setup. With a two-year warranty and a battery life of up to 4 hours, the MSI GL65 offers reliability and durability. Priced at 55,000, it offers excellent value for money for gamers seeking a powerful gaming laptop.\",\"Score\":5},{\"Brand\":\"Acer\",\"Model Name\":\"Predator\",\"Core\":\"i7\",\"CPU Manufacturer\":\"Intel\",\"Clock Speed\":\"2.8 GHz\",\"RAM Size\":\"16GB\",\"Storage Type\":\"SSD\",\"Display Type\":\"IPS\",\"Display Size\":\"17.3\\\"\",\"Graphics Processor\":\"NVIDIA GTX\",\"Screen Resolution\":\"1920x1080\",\"OS\":\"Windows 10\",\"Laptop Weight\":\"3.2 kg\",\"Special Features\":\"Dual Cooling Fans\",\"Warranty\":\"1 year\",\"Average Battery Life\":\"5 hours\",\"Price\":80000,\"Description\":\"The Acer Predator is a powerhouse laptop designed for gaming enthusiasts. It is equipped with an Intel Core i7 processor clocked at 2.8 GHz, providing exceptional processing power for seamless gaming and demanding tasks. With 16GB of RAM and an SSD, it offers fast and efficient multitasking and storage capabilities. The laptop features a large 17.3\\\" IPS display with a resolution of 1920x1080, delivering stunning visuals and wide viewing angles. It also comes with an NVIDIA GTX graphics card for impressive gaming performance. Weighing 3.2 kg, it is a bit on the heavier side but still offers portability. The laptop features dual cooling fans for effective heat dissipation during intense gaming sessions. With a one-year warranty and a battery life of up to 5 hours, the Acer Predator ensures reliability and endurance. Priced at 80,000, it provides excellent value for gamers seeking powerful gaming performance.\",\"Score\":5},{\"Brand\":\"ASUS\",\"Model Name\":\"ZenBook Pro\",\"Core\":\"i9\",\"CPU Manufacturer\":\"Intel\",\"Clock Speed\":\"3.1 GHz\",\"RAM Size\":\"64GB\",\"Storage Type\":\"SSD\",\"Display Type\":\"OLED\",\"Display Size\":\"15.6\\\"\",\"Graphics Processor\":\"NVIDIA RTX\",\"Screen Resolution\":\"3840x2160\",\"OS\":\"Windows 10\",\"Laptop Weight\":\"1.8 kg\",\"Special Features\":\"NanoEdge Display\",\"Warranty\":\"2 years\",\"Average Battery Life\":\"7 hours\",\"Price\":200000,\"Description\":\"The ASUS ZenBook Pro is a high-end laptop that offers exceptional performance and a stunning display. It is powered by an Intel Core i9 processor clocked at 3.1 GHz, providing outstanding processing power for demanding tasks and gaming. With a massive 64GB of RAM and an SSD, it offers extensive memory and storage capabilities for multitasking and data-intensive applications. The laptop features a 15.6\\\" OLED display with a resolution of 3840x2160, delivering incredibly sharp visuals and vibrant colors. Equipped with an NVIDIA RTX graphics card, it offers top-notch graphical performance for gaming and content creation. Weighing just 1.8 kg, it is highly portable. The laptop features a NanoEdge display with thin bezels for an immersive viewing experience. With a two-year warranty and a battery life of up to 7 hours, the ASUS ZenBook Pro combines reliability and durability. Priced at 200,000, it caters to users seeking uncompromising performance and a premium display.\",\"Score\":5}]\n",
            "1. ASUS ZenBook Pro: Intel Core i9 processor clocked at 3.1 GHz, 64GB RAM, SSD storage, NVIDIA RTX graphics, 15.6\" OLED display with 3840x2160 resolution, 7-hour battery life, 2-year warranty, Price: Rs. 200,000\n",
            "2. Acer Predator: Intel Core i7 processor clocked at 2.8 GHz, 16GB RAM, SSD storage, NVIDIA GTX graphics, 17.3\" IPS display with 1920x1080 resolution, 5-hour battery life, 1-year warranty, Price: Rs. 80,000\n",
            "3. MSI GL65: Intel Core i7 processor clocked at 2.6 GHz, 16GB RAM, HDD+SSD storage, NVIDIA GTX graphics, 15.6\" IPS display with 1920x1080 resolution, 4-hour battery life, 2-year warranty, Price: Rs. 55,000\n",
            "\n",
            "Based on your user profile with a high GPU intensity, medium display quality, low portability, medium multitasking needs, and high processing speed preference, the ASUS ZenBook Pro would be the most suitable option for you. It offers exceptional performance, a stunning 4K OLED display, high processing power, and ample RAM within your budget of Rs. 250,000.\n",
            "\n",
            "exit\n",
            "\n",
            "If you have any more questions in the future, feel free to ask. Have a great day! Goodbye!\n",
            "\n"
          ]
        }
      ]
    },
    {
      "cell_type": "markdown",
      "source": [
        "# Enhance the existing system design by utilising function calling"
      ],
      "metadata": {
        "id": "F4z5AMBqV0bc"
      },
      "id": "F4z5AMBqV0bc"
    },
    {
      "cell_type": "code",
      "source": [],
      "metadata": {
        "id": "eIxysnNiUzgx"
      },
      "id": "eIxysnNiUzgx",
      "execution_count": 35,
      "outputs": []
    }
  ],
  "metadata": {
    "language_info": {
      "name": "python"
    },
    "colab": {
      "provenance": [],
      "toc_visible": true,
      "include_colab_link": true
    },
    "kernelspec": {
      "name": "python3",
      "display_name": "Python 3"
    }
  },
  "nbformat": 4,
  "nbformat_minor": 5
}