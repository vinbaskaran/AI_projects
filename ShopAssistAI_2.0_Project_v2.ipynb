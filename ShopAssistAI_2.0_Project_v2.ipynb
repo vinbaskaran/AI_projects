{
 "cells": [
  {
   "cell_type": "markdown",
   "id": "0982c19e",
   "metadata": {},
   "source": [
    "ShopAssist AI - 2.0 - Enhanced Approach using Function Calling"
   ]
  },
  {
   "cell_type": "markdown",
   "id": "dcbcd148",
   "metadata": {},
   "source": [
    "Dataset obtained from : https://drive.google.com/file/d/1Z4Qta-ZpYGc-jjFstJXckyJKIvoQXTJj/view?usp=sharing"
   ]
  },
  {
   "cell_type": "markdown",
   "id": "34d671dc",
   "metadata": {},
   "source": [
    "Starter Notebook obtained from: https://colab.research.google.com/drive/1T-a5WIcle8XhBS5aX5tzFbc2S3MwFnT1#scrollTo=ad9b47b8\n",
    "\n"
   ]
  },
  {
   "cell_type": "markdown",
   "id": "21c4e72b",
   "metadata": {},
   "source": []
  }
 ],
 "metadata": {
  "language_info": {
   "name": "python"
  }
 },
 "nbformat": 4,
 "nbformat_minor": 5
}
