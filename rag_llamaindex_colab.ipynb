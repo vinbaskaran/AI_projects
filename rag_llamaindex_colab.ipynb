{
 "cells": [
  {
   "cell_type": "markdown",
   "id": "e6895499",
   "metadata": {},
   "source": [
    "# Minimal RAG Application with LlamaIndex (Colab)\n",
    "\n",
    "This notebook helps you build a minimal Retrieval-Augmented Generation (RAG) app using LlamaIndex and OpenAI to answer questions about your insurance PDF.\n",
    "\n",
    "**Instructions:**\n",
    "- Upload your `OpenAI_API_Key.txt` and insurance PDF file (e.g., `Principal-Sample-Life-Insurance-Policy.pdf`) using the Colab file upload cell below."
   ]
  },
  {
   "cell_type": "code",
   "execution_count": null,
   "id": "69e35dcd",
   "metadata": {},
   "outputs": [],
   "source": [
    "# Upload your OpenAI API key and PDF file\n",
    "from google.colab import files\n",
    "uploaded = files.upload()"
   ]
  },
  {
   "cell_type": "code",
   "execution_count": null,
   "id": "5626c418",
   "metadata": {},
   "outputs": [],
   "source": [
    "# Install required packages\n",
    "!pip install llama-index openai pdfplumber --quiet"
   ]
  },
  {
   "cell_type": "code",
   "execution_count": null,
   "id": "a620d1ac",
   "metadata": {},
   "outputs": [],
   "source": [
    "# Read OpenAI API key and PDF filename\n",
    "import os\n",
    "\n",
    "api_key_path = 'OpenAI_API_Key.txt'\n",
    "pdf_path = None\n",
    "for fname in uploaded.keys():\n",
    "    if fname.lower().endswith('.pdf'):\n",
    "        pdf_path = fname\n",
    "        break\n",
    "\n",
    "with open(api_key_path, 'r') as f:\n",
    "    openai_api_key = f.read().strip()\n",
    "os.environ['OPENAI_API_KEY'] = openai_api_key"
   ]
  },
  {
   "cell_type": "code",
   "execution_count": null,
   "id": "44ea9d41",
   "metadata": {},
   "outputs": [],
   "source": [
    "# Load and index the PDF using LlamaIndex\n",
    "from llama_index.core import SimpleDirectoryReader, VectorStoreIndex\n",
    "from llama_index.llms.openai import OpenAI\n",
    "\n",
    "# Load document\n",
    "reader = SimpleDirectoryReader(input_files=[pdf_path])\n",
    "documents = reader.load_data()\n",
    "\n",
    "# Set up LlamaIndex with OpenAI\n",
    "llm = OpenAI(model='gpt-3.5-turbo', api_key=openai_api_key)\n",
    "index = VectorStoreIndex.from_documents(documents)\n",
    "query_engine = index.as_query_engine(llm=llm)"
   ]
  },
  {
   "cell_type": "code",
   "execution_count": null,
   "id": "048a49a1",
   "metadata": {},
   "outputs": [],
   "source": [
    "# Ask questions about the PDF\n",
    "question = input('Enter your question about the insurance policy: ')\n",
    "response = query_engine.query(question)\n",
    "print('Answer:', response.response)"
   ]
  }
 ],
 "metadata": {
  "language_info": {
   "name": "python"
  }
 },
 "nbformat": 4,
 "nbformat_minor": 5
}
